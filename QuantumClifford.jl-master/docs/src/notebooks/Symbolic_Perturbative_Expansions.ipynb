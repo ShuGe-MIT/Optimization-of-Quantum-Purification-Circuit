{
 "cells": [
  {
   "cell_type": "code",
   "execution_count": 1,
   "metadata": {},
   "outputs": [],
   "source": [
    "using QuantumClifford\n",
    "using QuantumClifford.Experimental.NoisyCircuits\n",
    "using Plots\n",
    "using ProgressMeter\n",
    "using BenchmarkTools"
   ]
  },
  {
   "cell_type": "markdown",
   "metadata": {},
   "source": [
    "The perturbative expansion code supports symbolic calculation. Simply use one of the many symbolic packages in Julia and set the various parameters of interest to symbolic values instead of numeric ones. Here we show an example of a typical purification circuit that uses various computer algebra system available in Julia."
   ]
  },
  {
   "cell_type": "markdown",
   "metadata": {},
   "source": [
    "The circuit we will study is:"
   ]
  },
  {
   "cell_type": "code",
   "execution_count": 2,
   "metadata": {},
   "outputs": [
    {
     "data": {
      "image/png": "[encoded data removed]",
      "text/plain": [
       "5-element Vector{AbstractOperation}:\n",
       " NoiseOpAll(UnbiasedUncorrelatedNoise{Float64}(0.1))\n",
       " SparseGate(X_ ⟼ + XX\n",
       "_X ⟼ + _X\n",
       "Z_ ⟼ + Z_\n",
       "_Z ⟼ + ZZ\n",
       ", [1, 3])\n",
       " SparseGate(X_ ⟼ + XX\n",
       "_X ⟼ + _X\n",
       "Z_ ⟼ + Z_\n",
       "_Z ⟼ + ZZ\n",
       ", [2, 4])\n",
       " BellMeasurement(PauliOperator[+ X, + X], [3, 4])\n",
       " VerifyOp(+ ZZ\n",
       "+ XX, [1, 2])"
      ]
     },
     "execution_count": 2,
     "metadata": {},
     "output_type": "execute_result"
    }
   ],
   "source": [
    "good_bell_state = S\"XX\n",
    "                    ZZ\"\n",
    "initial_state = good_bell_state⊗good_bell_state\n",
    "\n",
    "g1 = SparseGate(CNOT, [1,3]) # CNOT between qubit 1 and qubit 3 (both with Alice)\n",
    "g2 = SparseGate(CNOT, [2,4]) # CNOT between qubit 2 and qubit 4 (both with Bob)\n",
    "m = BellMeasurement([X,X],[3,4]) # Bell measurement on qubit 3 and 4\n",
    "v = VerifyOp(good_bell_state,[1,2]) # Verify that qubit 1 and 2 indeed form a good Bell pair\n",
    "epsilon = 0.1 # The error rate\n",
    "n = NoiseOpAll(UnbiasedUncorrelatedNoise(epsilon))\n",
    "\n",
    "# This circuit performs a depolarization at rate `epsilon` to all qubits,\n",
    "# then bilater CNOT operations\n",
    "# then a Bell measurement\n",
    "# followed by checking whether the final result indeed corresponds to the correct Bell pair.\n",
    "circuit = [n,g1,g2,m,v] # Drawing the circuit out can be a bit slow as it uses LaTeX"
   ]
  },
  {
   "cell_type": "markdown",
   "metadata": {},
   "source": [
    "## If you want to use `Symbolics`"
   ]
  },
  {
   "cell_type": "code",
   "execution_count": 3,
   "metadata": {},
   "outputs": [],
   "source": [
    "using Symbolics\n",
    "@variables e\n",
    "unity = one(e);"
   ]
  },
  {
   "cell_type": "code",
   "execution_count": 4,
   "metadata": {},
   "outputs": [
    {
     "data": {
      "text/plain": [
       "Dict{Symbol, Num} with 3 entries:\n",
       "  :undetected_failure => 6e*((1 - (3e))^3)\n",
       "  :detected_failure   => 4e*((1 - (3e))^3)\n",
       "  :true_success       => (1 - (3e))^4 + 2e*((1 - (3e))^3)"
      ]
     },
     "execution_count": 4,
     "metadata": {},
     "output_type": "execute_result"
    }
   ],
   "source": [
    "good_bell_state = S\"XX\n",
    "                    ZZ\"\n",
    "initial_state = good_bell_state⊗good_bell_state\n",
    "\n",
    "g1 = SparseGate(CNOT, [1,3]) # CNOT between qubit 1 and qubit 3 (both with Alice)\n",
    "g2 = SparseGate(CNOT, [2,4]) # CNOT between qubit 2 and qubit 4 (both with Bob)\n",
    "m = BellMeasurement([X,X],[3,4]) # Bell measurement on qubit 3 and 4\n",
    "v = VerifyOp(good_bell_state,[1,2]) # Verify that qubit 1 and 2 indeed form a good Bell pair\n",
    "epsilon = e # The error rate\n",
    "n = NoiseOpAll(UnbiasedUncorrelatedNoise(epsilon))\n",
    "\n",
    "# This circuit performs a depolarization at rate `epsilon` to all qubits,\n",
    "# then bilater CNOT operations\n",
    "# then a Bell measurement\n",
    "# followed by checking whether the final result indeed corresponds to the correct Bell pair.\n",
    "circuit = [n,g1,g2,m,v]\n",
    "\n",
    "pe_symbolic = petrajectories(initial_state, circuit, branch_weight=unity) # perturbative expansion"
   ]
  },
  {
   "cell_type": "code",
   "execution_count": 5,
   "metadata": {},
   "outputs": [
    {
     "data": {
      "text/plain": [
       "BenchmarkTools.Trial: \n",
       "  memory estimate:  410.36 KiB\n",
       "  allocs estimate:  8497\n",
       "  --------------\n",
       "  minimum time:     1.260 ms (0.00% GC)\n",
       "  median time:      1.298 ms (0.00% GC)\n",
       "  mean time:        1.387 ms (4.25% GC)\n",
       "  maximum time:     10.937 ms (85.29% GC)\n",
       "  --------------\n",
       "  samples:          3585\n",
       "  evals/sample:     1"
      ]
     },
     "execution_count": 5,
     "metadata": {},
     "output_type": "execute_result"
    }
   ],
   "source": [
    "@benchmark petrajectories(initial_state, circuit, branch_weight=unity)"
   ]
  },
  {
   "cell_type": "code",
   "execution_count": 6,
   "metadata": {},
   "outputs": [
    {
     "data": {
      "text/latex": [
       "\\begin{equation}\n",
       "0.3086999999999999\n",
       "\\end{equation}\n"
      ],
      "text/plain": [
       "0.3086999999999999"
      ]
     },
     "execution_count": 6,
     "metadata": {},
     "output_type": "execute_result"
    }
   ],
   "source": [
    "# How to evaluate numerically\n",
    "substitute(pe_symbolic[:true_success], Dict(e=>0.1))"
   ]
  },
  {
   "cell_type": "markdown",
   "metadata": {},
   "source": [
    "## If you want to use `AbstractAlgebra`"
   ]
  },
  {
   "cell_type": "code",
   "execution_count": 7,
   "metadata": {},
   "outputs": [],
   "source": [
    "using AbstractAlgebra # Consider using Nemo.jl which can be much faster while having the same interfaces\n",
    "R, (e,) = PolynomialRing(RealField, [\"e\"])\n",
    "unity = R(1);"
   ]
  },
  {
   "cell_type": "code",
   "execution_count": 8,
   "metadata": {},
   "outputs": [
    {
     "data": {
      "text/plain": [
       "Dict{Symbol, AbstractAlgebra.Generic.MPoly{BigFloat}} with 3 entries:\n",
       "  :undetected_failure => -162.0*e^4 + 162.0*e^3 - 54.0*e^2 + 6.0*e\n",
       "  :detected_failure   => -108.0*e^4 + 108.0*e^3 - 36.0*e^2 + 4.0*e\n",
       "  :true_success       => 27.0*e^4 - 54.0*e^3 + 36.0*e^2 - 10.0*e + 1"
      ]
     },
     "execution_count": 8,
     "metadata": {},
     "output_type": "execute_result"
    }
   ],
   "source": [
    "good_bell_state = S\"XX\n",
    "                    ZZ\"\n",
    "initial_state = good_bell_state⊗good_bell_state\n",
    "\n",
    "g1 = SparseGate(CNOT, [1,3]) # CNOT between qubit 1 and qubit 3 (both with Alice)\n",
    "g2 = SparseGate(CNOT, [2,4]) # CNOT between qubit 2 and qubit 4 (both with Bob)\n",
    "m = BellMeasurement([X,X],[3,4]) # Bell measurement on qubit 3 and 4\n",
    "v = VerifyOp(good_bell_state,[1,2]) # Verify that qubit 1 and 2 indeed form a good Bell pair\n",
    "epsilon = e # The error rate\n",
    "n = NoiseOpAll(UnbiasedUncorrelatedNoise(epsilon))\n",
    "\n",
    "# This circuit performs a depolarization at rate `epsilon` to all qubits,\n",
    "# then bilater CNOT operations\n",
    "# then a Bell measurement\n",
    "# followed by checking whether the final result indeed corresponds to the correct Bell pair.\n",
    "circuit = [n,g1,g2,m,v]\n",
    "\n",
    "pe_symbolic = petrajectories(initial_state, circuit, branch_weight=unity) # perturbative expansion"
   ]
  },
  {
   "cell_type": "code",
   "execution_count": 9,
   "metadata": {},
   "outputs": [
    {
     "data": {
      "text/plain": [
       "BenchmarkTools.Trial: \n",
       "  memory estimate:  442.23 KiB\n",
       "  allocs estimate:  7937\n",
       "  --------------\n",
       "  minimum time:     595.370 μs (0.00% GC)\n",
       "  median time:      617.812 μs (0.00% GC)\n",
       "  mean time:        695.023 μs (9.76% GC)\n",
       "  maximum time:     10.890 ms (92.18% GC)\n",
       "  --------------\n",
       "  samples:          7123\n",
       "  evals/sample:     1"
      ]
     },
     "execution_count": 9,
     "metadata": {},
     "output_type": "execute_result"
    }
   ],
   "source": [
    "@benchmark petrajectories(initial_state, circuit, branch_weight=unity)"
   ]
  },
  {
   "cell_type": "code",
   "execution_count": 10,
   "metadata": {},
   "outputs": [
    {
     "data": {
      "text/plain": [
       "0.30870000000000000282655843175660947963478974997997283935546875"
      ]
     },
     "execution_count": 10,
     "metadata": {},
     "output_type": "execute_result"
    }
   ],
   "source": [
    "# How to evaluate numerically\n",
    "pe_symbolic[:true_success](0.1)"
   ]
  },
  {
   "cell_type": "markdown",
   "metadata": {},
   "source": [
    "## If you want to use `SymPy`"
   ]
  },
  {
   "cell_type": "code",
   "execution_count": 11,
   "metadata": {},
   "outputs": [],
   "source": [
    "using SymPy\n",
    "e = Sym(\"e\")\n",
    "unity = Sym(1);"
   ]
  },
  {
   "cell_type": "code",
   "execution_count": 12,
   "metadata": {},
   "outputs": [
    {
     "data": {
      "text/plain": [
       "Dict{Symbol, Sym} with 3 entries:\n",
       "  :undetected_failure => 6.0*e*(1 - 3*e)^3\n",
       "  :detected_failure   => 4.0*e*(1 - 3*e)^3\n",
       "  :true_success       => 2.0*e*(1 - 3*e)^3 + 1.0*(1 - 3*e)^4"
      ]
     },
     "execution_count": 12,
     "metadata": {},
     "output_type": "execute_result"
    }
   ],
   "source": [
    "good_bell_state = S\"XX\n",
    "                    ZZ\"\n",
    "canonicalize_rref!(good_bell_state)\n",
    "initial_state = good_bell_state⊗good_bell_state\n",
    "\n",
    "g1 = SparseGate(CNOT, [1,3]) # CNOT between qubit 1 and qubit 3 (both with Alice)\n",
    "g2 = SparseGate(CNOT, [2,4]) # CNOT between qubit 2 and qubit 4 (both with Bob)\n",
    "m = BellMeasurement([X,X],[3,4]) # Bell measurement on qubit 3 and 4\n",
    "v = VerifyOp(good_bell_state,[1,2]) # Verify that qubit 1 and 2 indeed form a good Bell pair\n",
    "epsilon = e # The error rate\n",
    "n = NoiseOpAll(UnbiasedUncorrelatedNoise(epsilon))\n",
    "\n",
    "# This circuit performs a depolarization at rate `epsilon` to all qubits,\n",
    "# then bilater CNOT operations\n",
    "# then a Bell measurement\n",
    "# followed by checking whether the final result indeed corresponds to the correct Bell pair.\n",
    "circuit = [n,g1,g2,m,v]\n",
    "\n",
    "pe_symbolic = petrajectories(initial_state, circuit, branch_weight=unity) # perturbative expansion"
   ]
  },
  {
   "cell_type": "code",
   "execution_count": 13,
   "metadata": {},
   "outputs": [
    {
     "data": {
      "text/plain": [
       "BenchmarkTools.Trial: \n",
       "  memory estimate:  327.64 KiB\n",
       "  allocs estimate:  8114\n",
       "  --------------\n",
       "  minimum time:     5.110 ms (0.00% GC)\n",
       "  median time:      5.309 ms (0.00% GC)\n",
       "  mean time:        5.660 ms (2.15% GC)\n",
       "  maximum time:     59.499 ms (50.56% GC)\n",
       "  --------------\n",
       "  samples:          882\n",
       "  evals/sample:     1"
      ]
     },
     "execution_count": 13,
     "metadata": {},
     "output_type": "execute_result"
    }
   ],
   "source": [
    "@benchmark petrajectories(initial_state, circuit, branch_weight=unity)"
   ]
  },
  {
   "cell_type": "code",
   "execution_count": 14,
   "metadata": {},
   "outputs": [
    {
     "data": {
      "text/latex": [
       "$\\begin{equation*}0.3087\\end{equation*}$\n"
      ],
      "text/plain": [
       "0.308700000000000"
      ]
     },
     "execution_count": 14,
     "metadata": {},
     "output_type": "execute_result"
    }
   ],
   "source": [
    "# How to evaluate numerically\n",
    "pe_symbolic[:true_success].subs(e,0.1)"
   ]
  },
  {
   "cell_type": "markdown",
   "metadata": {},
   "source": [
    "## Comparison to numeric result"
   ]
  },
  {
   "cell_type": "code",
   "execution_count": 15,
   "metadata": {},
   "outputs": [
    {
     "data": {
      "text/latex": [
       "$\\begin{equation*}2.0 e \\left(1 - 3 e\\right)^{3} + 1.0 \\left(1 - 3 e\\right)^{4}\\end{equation*}$\n"
      ],
      "text/plain": [
       "               3                4\n",
       "2.0⋅e⋅(1 - 3⋅e)  + 1.0⋅(1 - 3⋅e) "
      ]
     },
     "execution_count": 15,
     "metadata": {},
     "output_type": "execute_result"
    }
   ],
   "source": [
    "true_success_symbolic = pe_symbolic[:true_success]"
   ]
  },
  {
   "cell_type": "code",
   "execution_count": 16,
   "metadata": {},
   "outputs": [
    {
     "data": {
      "image/svg+xml": [
       "<?xml version=\"1.0\" encoding=\"utf-8\"?>\n",
       "<svg xmlns=\"http://www.w3.org/2000/svg\" xmlns:xlink=\"http://www.w3.org/1999/xlink\" width=\"600\" height=\"400\" viewBox=\"0 0 2400 1600\">\n",
       "<defs>\n",
       "  <clipPath id=\"clip550\">\n",
       "    <rect x=\"0\" y=\"0\" width=\"2400\" height=\"1600\"/>\n",
       "  </clipPath>\n",
       "</defs>\n",
       "<path clip-path=\"url(#clip550)\" d=\"\n",
       "M0 1600 L2400 1600 L2400 0 L0 0  Z\n",
       "  \" fill=\"#ffffff\" fill-rule=\"evenodd\" fill-opacity=\"1\"/>\n",
       "<defs>\n",
       "  <clipPath id=\"clip551\">\n",
       "    <rect x=\"480\" y=\"0\" width=\"1681\" height=\"1600\"/>\n",
       "  </clipPath>\n",
       "</defs>\n",
       "<path clip-path=\"url(#clip550)\" d=\"\n",
       "M219.866 1423.18 L2352.76 1423.18 L2352.76 123.472 L219.866 123.472  Z\n",
       "  \" fill=\"#ffffff\" fill-rule=\"evenodd\" fill-opacity=\"1\"/>\n",
       "<defs>\n",
       "  <clipPath id=\"clip552\">\n",
       "    <rect x=\"219\" y=\"123\" width=\"2134\" height=\"1301\"/>\n",
       "  </clipPath>\n",
       "</defs>\n",
       "<polyline clip-path=\"url(#clip552)\" style=\"stroke:#000000; stroke-width:2; stroke-opacity:0.1; fill:none\" points=\"\n",
       "  280.231,1423.18 280.231,123.472 \n",
       "  \"/>\n",
       "<polyline clip-path=\"url(#clip552)\" style=\"stroke:#000000; stroke-width:2; stroke-opacity:0.1; fill:none\" points=\"\n",
       "  783.271,1423.18 783.271,123.472 \n",
       "  \"/>\n",
       "<polyline clip-path=\"url(#clip552)\" style=\"stroke:#000000; stroke-width:2; stroke-opacity:0.1; fill:none\" points=\"\n",
       "  1286.31,1423.18 1286.31,123.472 \n",
       "  \"/>\n",
       "<polyline clip-path=\"url(#clip552)\" style=\"stroke:#000000; stroke-width:2; stroke-opacity:0.1; fill:none\" points=\"\n",
       "  1789.35,1423.18 1789.35,123.472 \n",
       "  \"/>\n",
       "<polyline clip-path=\"url(#clip552)\" style=\"stroke:#000000; stroke-width:2; stroke-opacity:0.1; fill:none\" points=\"\n",
       "  2292.39,1423.18 2292.39,123.472 \n",
       "  \"/>\n",
       "<polyline clip-path=\"url(#clip550)\" style=\"stroke:#000000; stroke-width:4; stroke-opacity:1; fill:none\" points=\"\n",
       "  219.866,1423.18 2352.76,1423.18 \n",
       "  \"/>\n",
       "<polyline clip-path=\"url(#clip550)\" style=\"stroke:#000000; stroke-width:4; stroke-opacity:1; fill:none\" points=\"\n",
       "  280.231,1423.18 280.231,1407.58 \n",
       "  \"/>\n",
       "<polyline clip-path=\"url(#clip550)\" style=\"stroke:#000000; stroke-width:4; stroke-opacity:1; fill:none\" points=\"\n",
       "  783.271,1423.18 783.271,1407.58 \n",
       "  \"/>\n",
       "<polyline clip-path=\"url(#clip550)\" style=\"stroke:#000000; stroke-width:4; stroke-opacity:1; fill:none\" points=\"\n",
       "  1286.31,1423.18 1286.31,1407.58 \n",
       "  \"/>\n",
       "<polyline clip-path=\"url(#clip550)\" style=\"stroke:#000000; stroke-width:4; stroke-opacity:1; fill:none\" points=\"\n",
       "  1789.35,1423.18 1789.35,1407.58 \n",
       "  \"/>\n",
       "<polyline clip-path=\"url(#clip550)\" style=\"stroke:#000000; stroke-width:4; stroke-opacity:1; fill:none\" points=\"\n",
       "  2292.39,1423.18 2292.39,1407.58 \n",
       "  \"/>\n",
       "<path clip-path=\"url(#clip550)\" d=\"M 0 0 M227.454 1452.37 Q223.842 1452.37 222.014 1455.94 Q220.208 1459.48 220.208 1466.61 Q220.208 1473.71 222.014 1477.28 Q223.842 1480.82 227.454 1480.82 Q231.088 1480.82 232.893 1477.28 Q234.722 1473.71 234.722 1466.61 Q234.722 1459.48 232.893 1455.94 Q231.088 1452.37 227.454 1452.37 M227.454 1448.67 Q233.264 1448.67 236.319 1453.27 Q239.398 1457.86 239.398 1466.61 Q239.398 1475.33 236.319 1479.94 Q233.264 1484.52 227.454 1484.52 Q221.643 1484.52 218.565 1479.94 Q215.509 1475.33 215.509 1466.61 Q215.509 1457.86 218.565 1453.27 Q221.643 1448.67 227.454 1448.67 Z\" fill=\"#000000\" fill-rule=\"evenodd\" fill-opacity=\"1\" /><path clip-path=\"url(#clip550)\" d=\"M 0 0 M247.616 1477.97 L252.5 1477.97 L252.5 1483.85 L247.616 1483.85 L247.616 1477.97 Z\" fill=\"#000000\" fill-rule=\"evenodd\" fill-opacity=\"1\" /><path clip-path=\"url(#clip550)\" d=\"M 0 0 M272.685 1452.37 Q269.074 1452.37 267.245 1455.94 Q265.439 1459.48 265.439 1466.61 Q265.439 1473.71 267.245 1477.28 Q269.074 1480.82 272.685 1480.82 Q276.319 1480.82 278.125 1477.28 Q279.953 1473.71 279.953 1466.61 Q279.953 1459.48 278.125 1455.94 Q276.319 1452.37 272.685 1452.37 M272.685 1448.67 Q278.495 1448.67 281.551 1453.27 Q284.629 1457.86 284.629 1466.61 Q284.629 1475.33 281.551 1479.94 Q278.495 1484.52 272.685 1484.52 Q266.875 1484.52 263.796 1479.94 Q260.74 1475.33 260.74 1466.61 Q260.74 1457.86 263.796 1453.27 Q266.875 1448.67 272.685 1448.67 Z\" fill=\"#000000\" fill-rule=\"evenodd\" fill-opacity=\"1\" /><path clip-path=\"url(#clip550)\" d=\"M 0 0 M302.847 1452.37 Q299.236 1452.37 297.407 1455.94 Q295.601 1459.48 295.601 1466.61 Q295.601 1473.71 297.407 1477.28 Q299.236 1480.82 302.847 1480.82 Q306.481 1480.82 308.286 1477.28 Q310.115 1473.71 310.115 1466.61 Q310.115 1459.48 308.286 1455.94 Q306.481 1452.37 302.847 1452.37 M302.847 1448.67 Q308.657 1448.67 311.712 1453.27 Q314.791 1457.86 314.791 1466.61 Q314.791 1475.33 311.712 1479.94 Q308.657 1484.52 302.847 1484.52 Q297.037 1484.52 293.958 1479.94 Q290.902 1475.33 290.902 1466.61 Q290.902 1457.86 293.958 1453.27 Q297.037 1448.67 302.847 1448.67 Z\" fill=\"#000000\" fill-rule=\"evenodd\" fill-opacity=\"1\" /><path clip-path=\"url(#clip550)\" d=\"M 0 0 M333.009 1452.37 Q329.397 1452.37 327.569 1455.94 Q325.763 1459.48 325.763 1466.61 Q325.763 1473.71 327.569 1477.28 Q329.397 1480.82 333.009 1480.82 Q336.643 1480.82 338.448 1477.28 Q340.277 1473.71 340.277 1466.61 Q340.277 1459.48 338.448 1455.94 Q336.643 1452.37 333.009 1452.37 M333.009 1448.67 Q338.819 1448.67 341.874 1453.27 Q344.953 1457.86 344.953 1466.61 Q344.953 1475.33 341.874 1479.94 Q338.819 1484.52 333.009 1484.52 Q327.198 1484.52 324.12 1479.94 Q321.064 1475.33 321.064 1466.61 Q321.064 1457.86 324.12 1453.27 Q327.198 1448.67 333.009 1448.67 Z\" fill=\"#000000\" fill-rule=\"evenodd\" fill-opacity=\"1\" /><path clip-path=\"url(#clip550)\" d=\"M 0 0 M730.991 1452.37 Q727.38 1452.37 725.551 1455.94 Q723.746 1459.48 723.746 1466.61 Q723.746 1473.71 725.551 1477.28 Q727.38 1480.82 730.991 1480.82 Q734.626 1480.82 736.431 1477.28 Q738.26 1473.71 738.26 1466.61 Q738.26 1459.48 736.431 1455.94 Q734.626 1452.37 730.991 1452.37 M730.991 1448.67 Q736.801 1448.67 739.857 1453.27 Q742.936 1457.86 742.936 1466.61 Q742.936 1475.33 739.857 1479.94 Q736.801 1484.52 730.991 1484.52 Q725.181 1484.52 722.102 1479.94 Q719.047 1475.33 719.047 1466.61 Q719.047 1457.86 722.102 1453.27 Q725.181 1448.67 730.991 1448.67 Z\" fill=\"#000000\" fill-rule=\"evenodd\" fill-opacity=\"1\" /><path clip-path=\"url(#clip550)\" d=\"M 0 0 M751.153 1477.97 L756.037 1477.97 L756.037 1483.85 L751.153 1483.85 L751.153 1477.97 Z\" fill=\"#000000\" fill-rule=\"evenodd\" fill-opacity=\"1\" /><path clip-path=\"url(#clip550)\" d=\"M 0 0 M776.223 1452.37 Q772.611 1452.37 770.783 1455.94 Q768.977 1459.48 768.977 1466.61 Q768.977 1473.71 770.783 1477.28 Q772.611 1480.82 776.223 1480.82 Q779.857 1480.82 781.662 1477.28 Q783.491 1473.71 783.491 1466.61 Q783.491 1459.48 781.662 1455.94 Q779.857 1452.37 776.223 1452.37 M776.223 1448.67 Q782.033 1448.67 785.088 1453.27 Q788.167 1457.86 788.167 1466.61 Q788.167 1475.33 785.088 1479.94 Q782.033 1484.52 776.223 1484.52 Q770.412 1484.52 767.334 1479.94 Q764.278 1475.33 764.278 1466.61 Q764.278 1457.86 767.334 1453.27 Q770.412 1448.67 776.223 1448.67 Z\" fill=\"#000000\" fill-rule=\"evenodd\" fill-opacity=\"1\" /><path clip-path=\"url(#clip550)\" d=\"M 0 0 M800.412 1479.92 L816.732 1479.92 L816.732 1483.85 L794.787 1483.85 L794.787 1479.92 Q797.449 1477.16 802.033 1472.53 Q806.639 1467.88 807.82 1466.54 Q810.065 1464.01 810.945 1462.28 Q811.847 1460.52 811.847 1458.83 Q811.847 1456.07 809.903 1454.34 Q807.982 1452.6 804.88 1452.6 Q802.681 1452.6 800.227 1453.37 Q797.796 1454.13 795.019 1455.68 L795.019 1450.96 Q797.843 1449.82 800.296 1449.25 Q802.75 1448.67 804.787 1448.67 Q810.158 1448.67 813.352 1451.35 Q816.546 1454.04 816.546 1458.53 Q816.546 1460.66 815.736 1462.58 Q814.949 1464.48 812.843 1467.07 Q812.264 1467.74 809.162 1470.96 Q806.06 1474.15 800.412 1479.92 Z\" fill=\"#000000\" fill-rule=\"evenodd\" fill-opacity=\"1\" /><path clip-path=\"url(#clip550)\" d=\"M 0 0 M826.593 1449.29 L844.949 1449.29 L844.949 1453.23 L830.875 1453.23 L830.875 1461.7 Q831.894 1461.35 832.912 1461.19 Q833.931 1461 834.949 1461 Q840.736 1461 844.116 1464.18 Q847.495 1467.35 847.495 1472.76 Q847.495 1478.34 844.023 1481.44 Q840.551 1484.52 834.231 1484.52 Q832.056 1484.52 829.787 1484.15 Q827.542 1483.78 825.134 1483.04 L825.134 1478.34 Q827.218 1479.48 829.44 1480.03 Q831.662 1480.59 834.139 1480.59 Q838.143 1480.59 840.481 1478.48 Q842.819 1476.38 842.819 1472.76 Q842.819 1469.15 840.481 1467.05 Q838.143 1464.94 834.139 1464.94 Q832.264 1464.94 830.389 1465.36 Q828.537 1465.77 826.593 1466.65 L826.593 1449.29 Z\" fill=\"#000000\" fill-rule=\"evenodd\" fill-opacity=\"1\" /><path clip-path=\"url(#clip550)\" d=\"M 0 0 M1233.53 1452.37 Q1229.92 1452.37 1228.09 1455.94 Q1226.29 1459.48 1226.29 1466.61 Q1226.29 1473.71 1228.09 1477.28 Q1229.92 1480.82 1233.53 1480.82 Q1237.17 1480.82 1238.97 1477.28 Q1240.8 1473.71 1240.8 1466.61 Q1240.8 1459.48 1238.97 1455.94 Q1237.17 1452.37 1233.53 1452.37 M1233.53 1448.67 Q1239.34 1448.67 1242.4 1453.27 Q1245.48 1457.86 1245.48 1466.61 Q1245.48 1475.33 1242.4 1479.94 Q1239.34 1484.52 1233.53 1484.52 Q1227.72 1484.52 1224.64 1479.94 Q1221.59 1475.33 1221.59 1466.61 Q1221.59 1457.86 1224.64 1453.27 Q1227.72 1448.67 1233.53 1448.67 Z\" fill=\"#000000\" fill-rule=\"evenodd\" fill-opacity=\"1\" /><path clip-path=\"url(#clip550)\" d=\"M 0 0 M1253.7 1477.97 L1258.58 1477.97 L1258.58 1483.85 L1253.7 1483.85 L1253.7 1477.97 Z\" fill=\"#000000\" fill-rule=\"evenodd\" fill-opacity=\"1\" /><path clip-path=\"url(#clip550)\" d=\"M 0 0 M1278.76 1452.37 Q1275.15 1452.37 1273.33 1455.94 Q1271.52 1459.48 1271.52 1466.61 Q1271.52 1473.71 1273.33 1477.28 Q1275.15 1480.82 1278.76 1480.82 Q1282.4 1480.82 1284.2 1477.28 Q1286.03 1473.71 1286.03 1466.61 Q1286.03 1459.48 1284.2 1455.94 Q1282.4 1452.37 1278.76 1452.37 M1278.76 1448.67 Q1284.57 1448.67 1287.63 1453.27 Q1290.71 1457.86 1290.71 1466.61 Q1290.71 1475.33 1287.63 1479.94 Q1284.57 1484.52 1278.76 1484.52 Q1272.95 1484.52 1269.88 1479.94 Q1266.82 1475.33 1266.82 1466.61 Q1266.82 1457.86 1269.88 1453.27 Q1272.95 1448.67 1278.76 1448.67 Z\" fill=\"#000000\" fill-rule=\"evenodd\" fill-opacity=\"1\" /><path clip-path=\"url(#clip550)\" d=\"M 0 0 M1298.97 1449.29 L1317.33 1449.29 L1317.33 1453.23 L1303.26 1453.23 L1303.26 1461.7 Q1304.27 1461.35 1305.29 1461.19 Q1306.31 1461 1307.33 1461 Q1313.12 1461 1316.5 1464.18 Q1319.88 1467.35 1319.88 1472.76 Q1319.88 1478.34 1316.4 1481.44 Q1312.93 1484.52 1306.61 1484.52 Q1304.44 1484.52 1302.17 1484.15 Q1299.92 1483.78 1297.51 1483.04 L1297.51 1478.34 Q1299.6 1479.48 1301.82 1480.03 Q1304.04 1480.59 1306.52 1480.59 Q1310.52 1480.59 1312.86 1478.48 Q1315.2 1476.38 1315.2 1472.76 Q1315.2 1469.15 1312.86 1467.05 Q1310.52 1464.94 1306.52 1464.94 Q1304.64 1464.94 1302.77 1465.36 Q1300.92 1465.77 1298.97 1466.65 L1298.97 1449.29 Z\" fill=\"#000000\" fill-rule=\"evenodd\" fill-opacity=\"1\" /><path clip-path=\"url(#clip550)\" d=\"M 0 0 M1339.09 1452.37 Q1335.48 1452.37 1333.65 1455.94 Q1331.84 1459.48 1331.84 1466.61 Q1331.84 1473.71 1333.65 1477.28 Q1335.48 1480.82 1339.09 1480.82 Q1342.72 1480.82 1344.53 1477.28 Q1346.36 1473.71 1346.36 1466.61 Q1346.36 1459.48 1344.53 1455.94 Q1342.72 1452.37 1339.09 1452.37 M1339.09 1448.67 Q1344.9 1448.67 1347.95 1453.27 Q1351.03 1457.86 1351.03 1466.61 Q1351.03 1475.33 1347.95 1479.94 Q1344.9 1484.52 1339.09 1484.52 Q1333.28 1484.52 1330.2 1479.94 Q1327.14 1475.33 1327.14 1466.61 Q1327.14 1457.86 1330.2 1453.27 Q1333.28 1448.67 1339.09 1448.67 Z\" fill=\"#000000\" fill-rule=\"evenodd\" fill-opacity=\"1\" /><path clip-path=\"url(#clip550)\" d=\"M 0 0 M1737.07 1452.37 Q1733.46 1452.37 1731.63 1455.94 Q1729.83 1459.48 1729.83 1466.61 Q1729.83 1473.71 1731.63 1477.28 Q1733.46 1480.82 1737.07 1480.82 Q1740.71 1480.82 1742.51 1477.28 Q1744.34 1473.71 1744.34 1466.61 Q1744.34 1459.48 1742.51 1455.94 Q1740.71 1452.37 1737.07 1452.37 M1737.07 1448.67 Q1742.88 1448.67 1745.94 1453.27 Q1749.02 1457.86 1749.02 1466.61 Q1749.02 1475.33 1745.94 1479.94 Q1742.88 1484.52 1737.07 1484.52 Q1731.26 1484.52 1728.18 1479.94 Q1725.13 1475.33 1725.13 1466.61 Q1725.13 1457.86 1728.18 1453.27 Q1731.26 1448.67 1737.07 1448.67 Z\" fill=\"#000000\" fill-rule=\"evenodd\" fill-opacity=\"1\" /><path clip-path=\"url(#clip550)\" d=\"M 0 0 M1757.23 1477.97 L1762.12 1477.97 L1762.12 1483.85 L1757.23 1483.85 L1757.23 1477.97 Z\" fill=\"#000000\" fill-rule=\"evenodd\" fill-opacity=\"1\" /><path clip-path=\"url(#clip550)\" d=\"M 0 0 M1782.3 1452.37 Q1778.69 1452.37 1776.86 1455.94 Q1775.06 1459.48 1775.06 1466.61 Q1775.06 1473.71 1776.86 1477.28 Q1778.69 1480.82 1782.3 1480.82 Q1785.94 1480.82 1787.74 1477.28 Q1789.57 1473.71 1789.57 1466.61 Q1789.57 1459.48 1787.74 1455.94 Q1785.94 1452.37 1782.3 1452.37 M1782.3 1448.67 Q1788.11 1448.67 1791.17 1453.27 Q1794.25 1457.86 1794.25 1466.61 Q1794.25 1475.33 1791.17 1479.94 Q1788.11 1484.52 1782.3 1484.52 Q1776.49 1484.52 1773.41 1479.94 Q1770.36 1475.33 1770.36 1466.61 Q1770.36 1457.86 1773.41 1453.27 Q1776.49 1448.67 1782.3 1448.67 Z\" fill=\"#000000\" fill-rule=\"evenodd\" fill-opacity=\"1\" /><path clip-path=\"url(#clip550)\" d=\"M 0 0 M1801.28 1449.29 L1823.51 1449.29 L1823.51 1451.28 L1810.96 1483.85 L1806.08 1483.85 L1817.88 1453.23 L1801.28 1453.23 L1801.28 1449.29 Z\" fill=\"#000000\" fill-rule=\"evenodd\" fill-opacity=\"1\" /><path clip-path=\"url(#clip550)\" d=\"M 0 0 M1832.67 1449.29 L1851.03 1449.29 L1851.03 1453.23 L1836.96 1453.23 L1836.96 1461.7 Q1837.97 1461.35 1838.99 1461.19 Q1840.01 1461 1841.03 1461 Q1846.82 1461 1850.2 1464.18 Q1853.58 1467.35 1853.58 1472.76 Q1853.58 1478.34 1850.1 1481.44 Q1846.63 1484.52 1840.31 1484.52 Q1838.14 1484.52 1835.87 1484.15 Q1833.62 1483.78 1831.21 1483.04 L1831.21 1478.34 Q1833.3 1479.48 1835.52 1480.03 Q1837.74 1480.59 1840.22 1480.59 Q1844.22 1480.59 1846.56 1478.48 Q1848.9 1476.38 1848.9 1472.76 Q1848.9 1469.15 1846.56 1467.05 Q1844.22 1464.94 1840.22 1464.94 Q1838.34 1464.94 1836.47 1465.36 Q1834.62 1465.77 1832.67 1466.65 L1832.67 1449.29 Z\" fill=\"#000000\" fill-rule=\"evenodd\" fill-opacity=\"1\" /><path clip-path=\"url(#clip550)\" d=\"M 0 0 M2239.61 1452.37 Q2236 1452.37 2234.17 1455.94 Q2232.37 1459.48 2232.37 1466.61 Q2232.37 1473.71 2234.17 1477.28 Q2236 1480.82 2239.61 1480.82 Q2243.25 1480.82 2245.05 1477.28 Q2246.88 1473.71 2246.88 1466.61 Q2246.88 1459.48 2245.05 1455.94 Q2243.25 1452.37 2239.61 1452.37 M2239.61 1448.67 Q2245.42 1448.67 2248.48 1453.27 Q2251.56 1457.86 2251.56 1466.61 Q2251.56 1475.33 2248.48 1479.94 Q2245.42 1484.52 2239.61 1484.52 Q2233.8 1484.52 2230.72 1479.94 Q2227.67 1475.33 2227.67 1466.61 Q2227.67 1457.86 2230.72 1453.27 Q2233.8 1448.67 2239.61 1448.67 Z\" fill=\"#000000\" fill-rule=\"evenodd\" fill-opacity=\"1\" /><path clip-path=\"url(#clip550)\" d=\"M 0 0 M2259.78 1477.97 L2264.66 1477.97 L2264.66 1483.85 L2259.78 1483.85 L2259.78 1477.97 Z\" fill=\"#000000\" fill-rule=\"evenodd\" fill-opacity=\"1\" /><path clip-path=\"url(#clip550)\" d=\"M 0 0 M2275.66 1479.92 L2283.29 1479.92 L2283.29 1453.55 L2274.98 1455.22 L2274.98 1450.96 L2283.25 1449.29 L2287.92 1449.29 L2287.92 1479.92 L2295.56 1479.92 L2295.56 1483.85 L2275.66 1483.85 L2275.66 1479.92 Z\" fill=\"#000000\" fill-rule=\"evenodd\" fill-opacity=\"1\" /><path clip-path=\"url(#clip550)\" d=\"M 0 0 M2315.01 1452.37 Q2311.4 1452.37 2309.57 1455.94 Q2307.76 1459.48 2307.76 1466.61 Q2307.76 1473.71 2309.57 1477.28 Q2311.4 1480.82 2315.01 1480.82 Q2318.64 1480.82 2320.45 1477.28 Q2322.28 1473.71 2322.28 1466.61 Q2322.28 1459.48 2320.45 1455.94 Q2318.64 1452.37 2315.01 1452.37 M2315.01 1448.67 Q2320.82 1448.67 2323.87 1453.27 Q2326.95 1457.86 2326.95 1466.61 Q2326.95 1475.33 2323.87 1479.94 Q2320.82 1484.52 2315.01 1484.52 Q2309.2 1484.52 2306.12 1479.94 Q2303.06 1475.33 2303.06 1466.61 Q2303.06 1457.86 2306.12 1453.27 Q2309.2 1448.67 2315.01 1448.67 Z\" fill=\"#000000\" fill-rule=\"evenodd\" fill-opacity=\"1\" /><path clip-path=\"url(#clip550)\" d=\"M 0 0 M2345.17 1452.37 Q2341.56 1452.37 2339.73 1455.94 Q2337.92 1459.48 2337.92 1466.61 Q2337.92 1473.71 2339.73 1477.28 Q2341.56 1480.82 2345.17 1480.82 Q2348.8 1480.82 2350.61 1477.28 Q2352.44 1473.71 2352.44 1466.61 Q2352.44 1459.48 2350.61 1455.94 Q2348.8 1452.37 2345.17 1452.37 M2345.17 1448.67 Q2350.98 1448.67 2354.03 1453.27 Q2357.11 1457.86 2357.11 1466.61 Q2357.11 1475.33 2354.03 1479.94 Q2350.98 1484.52 2345.17 1484.52 Q2339.36 1484.52 2336.28 1479.94 Q2333.22 1475.33 2333.22 1466.61 Q2333.22 1457.86 2336.28 1453.27 Q2339.36 1448.67 2345.17 1448.67 Z\" fill=\"#000000\" fill-rule=\"evenodd\" fill-opacity=\"1\" /><path clip-path=\"url(#clip550)\" d=\"M 0 0 M1281.36 1548.82 Q1277.8 1548.06 1275.89 1545.99 Q1273.98 1543.95 1273.98 1540.99 Q1273.98 1536.5 1277.61 1533.99 Q1281.2 1531.5 1287.44 1531.5 Q1289.86 1531.5 1292.57 1531.89 Q1295.27 1532.27 1298.39 1533.03 L1298.39 1538.35 Q1295.3 1537.42 1292.76 1537.01 Q1290.18 1536.6 1287.92 1536.6 Q1284.13 1536.6 1281.93 1538.06 Q1279.71 1539.53 1279.71 1541.56 Q1279.71 1543.79 1281.87 1545.22 Q1284 1546.62 1287.7 1546.62 L1292.63 1546.62 L1292.63 1551.46 L1287.92 1551.46 Q1283.56 1551.46 1281.27 1553.08 Q1278.78 1554.87 1278.78 1557.67 Q1278.78 1560.53 1281.46 1562.31 Q1284.16 1564.1 1288.97 1564.1 Q1291.93 1564.1 1294.63 1563.52 Q1297.34 1562.92 1299.6 1561.74 L1299.6 1567.18 Q1296.73 1568.08 1294.06 1568.52 Q1291.36 1568.97 1288.81 1568.97 Q1281.23 1568.97 1277.13 1566.07 Q1273.02 1563.17 1273.02 1557.67 Q1273.02 1554.23 1275.22 1551.91 Q1277.42 1549.58 1281.36 1548.82 Z\" fill=\"#000000\" fill-rule=\"evenodd\" fill-opacity=\"1\" /><polyline clip-path=\"url(#clip552)\" style=\"stroke:#000000; stroke-width:2; stroke-opacity:0.1; fill:none\" points=\"\n",
       "  219.866,1224.46 2352.76,1224.46 \n",
       "  \"/>\n",
       "<polyline clip-path=\"url(#clip552)\" style=\"stroke:#000000; stroke-width:2; stroke-opacity:0.1; fill:none\" points=\"\n",
       "  219.866,869.725 2352.76,869.725 \n",
       "  \"/>\n",
       "<polyline clip-path=\"url(#clip552)\" style=\"stroke:#000000; stroke-width:2; stroke-opacity:0.1; fill:none\" points=\"\n",
       "  219.866,514.991 2352.76,514.991 \n",
       "  \"/>\n",
       "<polyline clip-path=\"url(#clip552)\" style=\"stroke:#000000; stroke-width:2; stroke-opacity:0.1; fill:none\" points=\"\n",
       "  219.866,160.256 2352.76,160.256 \n",
       "  \"/>\n",
       "<polyline clip-path=\"url(#clip550)\" style=\"stroke:#000000; stroke-width:4; stroke-opacity:1; fill:none\" points=\"\n",
       "  219.866,1423.18 219.866,123.472 \n",
       "  \"/>\n",
       "<polyline clip-path=\"url(#clip550)\" style=\"stroke:#000000; stroke-width:4; stroke-opacity:1; fill:none\" points=\"\n",
       "  219.866,1224.46 245.461,1224.46 \n",
       "  \"/>\n",
       "<polyline clip-path=\"url(#clip550)\" style=\"stroke:#000000; stroke-width:4; stroke-opacity:1; fill:none\" points=\"\n",
       "  219.866,869.725 245.461,869.725 \n",
       "  \"/>\n",
       "<polyline clip-path=\"url(#clip550)\" style=\"stroke:#000000; stroke-width:4; stroke-opacity:1; fill:none\" points=\"\n",
       "  219.866,514.991 245.461,514.991 \n",
       "  \"/>\n",
       "<polyline clip-path=\"url(#clip550)\" style=\"stroke:#000000; stroke-width:4; stroke-opacity:1; fill:none\" points=\"\n",
       "  219.866,160.256 245.461,160.256 \n",
       "  \"/>\n",
       "<path clip-path=\"url(#clip550)\" d=\"M 0 0 M126.205 1210.26 Q122.593 1210.26 120.765 1213.82 Q118.959 1217.36 118.959 1224.49 Q118.959 1231.6 120.765 1235.17 Q122.593 1238.71 126.205 1238.71 Q129.839 1238.71 131.644 1235.17 Q133.473 1231.6 133.473 1224.49 Q133.473 1217.36 131.644 1213.82 Q129.839 1210.26 126.205 1210.26 M126.205 1206.55 Q132.015 1206.55 135.07 1211.16 Q138.149 1215.74 138.149 1224.49 Q138.149 1233.22 135.07 1237.83 Q132.015 1242.41 126.205 1242.41 Q120.394 1242.41 117.316 1237.83 Q114.26 1233.22 114.26 1224.49 Q114.26 1215.74 117.316 1211.16 Q120.394 1206.55 126.205 1206.55 Z\" fill=\"#000000\" fill-rule=\"evenodd\" fill-opacity=\"1\" /><path clip-path=\"url(#clip550)\" d=\"M 0 0 M146.366 1235.86 L151.251 1235.86 L151.251 1241.74 L146.366 1241.74 L146.366 1235.86 Z\" fill=\"#000000\" fill-rule=\"evenodd\" fill-opacity=\"1\" /><path clip-path=\"url(#clip550)\" d=\"M 0 0 M174.283 1211.25 L162.477 1229.7 L174.283 1229.7 L174.283 1211.25 M173.056 1207.18 L178.936 1207.18 L178.936 1229.7 L183.866 1229.7 L183.866 1233.59 L178.936 1233.59 L178.936 1241.74 L174.283 1241.74 L174.283 1233.59 L158.681 1233.59 L158.681 1229.08 L173.056 1207.18 Z\" fill=\"#000000\" fill-rule=\"evenodd\" fill-opacity=\"1\" /><path clip-path=\"url(#clip550)\" d=\"M 0 0 M126.529 855.524 Q122.918 855.524 121.089 859.089 Q119.283 862.63 119.283 869.76 Q119.283 876.866 121.089 880.431 Q122.918 883.973 126.529 883.973 Q130.163 883.973 131.968 880.431 Q133.797 876.866 133.797 869.76 Q133.797 862.63 131.968 859.089 Q130.163 855.524 126.529 855.524 M126.529 851.82 Q132.339 851.82 135.394 856.427 Q138.473 861.01 138.473 869.76 Q138.473 878.487 135.394 883.093 Q132.339 887.676 126.529 887.676 Q120.718 887.676 117.64 883.093 Q114.584 878.487 114.584 869.76 Q114.584 861.01 117.64 856.427 Q120.718 851.82 126.529 851.82 Z\" fill=\"#000000\" fill-rule=\"evenodd\" fill-opacity=\"1\" /><path clip-path=\"url(#clip550)\" d=\"M 0 0 M146.691 881.125 L151.575 881.125 L151.575 887.005 L146.691 887.005 L146.691 881.125 Z\" fill=\"#000000\" fill-rule=\"evenodd\" fill-opacity=\"1\" /><path clip-path=\"url(#clip550)\" d=\"M 0 0 M172.339 867.862 Q169.19 867.862 167.339 870.014 Q165.51 872.167 165.51 875.917 Q165.51 879.644 167.339 881.82 Q169.19 883.973 172.339 883.973 Q175.487 883.973 177.315 881.82 Q179.167 879.644 179.167 875.917 Q179.167 872.167 177.315 870.014 Q175.487 867.862 172.339 867.862 M181.621 853.209 L181.621 857.468 Q179.862 856.635 178.056 856.195 Q176.274 855.755 174.514 855.755 Q169.885 855.755 167.431 858.88 Q165.001 862.005 164.653 868.325 Q166.019 866.311 168.079 865.246 Q170.139 864.158 172.616 864.158 Q177.825 864.158 180.834 867.329 Q183.866 870.477 183.866 875.917 Q183.866 881.241 180.718 884.459 Q177.57 887.676 172.339 887.676 Q166.343 887.676 163.172 883.093 Q160.001 878.487 160.001 869.76 Q160.001 861.565 163.89 856.704 Q167.778 851.82 174.329 851.82 Q176.089 851.82 177.871 852.167 Q179.676 852.514 181.621 853.209 Z\" fill=\"#000000\" fill-rule=\"evenodd\" fill-opacity=\"1\" /><path clip-path=\"url(#clip550)\" d=\"M 0 0 M126.783 500.789 Q123.172 500.789 121.343 504.354 Q119.538 507.896 119.538 515.025 Q119.538 522.132 121.343 525.697 Q123.172 529.238 126.783 529.238 Q130.417 529.238 132.223 525.697 Q134.052 522.132 134.052 515.025 Q134.052 507.896 132.223 504.354 Q130.417 500.789 126.783 500.789 M126.783 497.086 Q132.593 497.086 135.649 501.692 Q138.728 506.275 138.728 515.025 Q138.728 523.752 135.649 528.359 Q132.593 532.942 126.783 532.942 Q120.973 532.942 117.894 528.359 Q114.839 523.752 114.839 515.025 Q114.839 506.275 117.894 501.692 Q120.973 497.086 126.783 497.086 Z\" fill=\"#000000\" fill-rule=\"evenodd\" fill-opacity=\"1\" /><path clip-path=\"url(#clip550)\" d=\"M 0 0 M146.945 526.391 L151.829 526.391 L151.829 532.271 L146.945 532.271 L146.945 526.391 Z\" fill=\"#000000\" fill-rule=\"evenodd\" fill-opacity=\"1\" /><path clip-path=\"url(#clip550)\" d=\"M 0 0 M172.014 515.859 Q168.681 515.859 166.76 517.641 Q164.862 519.424 164.862 522.549 Q164.862 525.673 166.76 527.456 Q168.681 529.238 172.014 529.238 Q175.348 529.238 177.269 527.456 Q179.19 525.65 179.19 522.549 Q179.19 519.424 177.269 517.641 Q175.371 515.859 172.014 515.859 M167.339 513.868 Q164.329 513.127 162.64 511.067 Q160.973 509.007 160.973 506.044 Q160.973 501.9 163.913 499.493 Q166.876 497.086 172.014 497.086 Q177.176 497.086 180.116 499.493 Q183.056 501.9 183.056 506.044 Q183.056 509.007 181.366 511.067 Q179.7 513.127 176.714 513.868 Q180.093 514.655 181.968 516.947 Q183.866 519.238 183.866 522.549 Q183.866 527.572 180.788 530.257 Q177.732 532.942 172.014 532.942 Q166.297 532.942 163.218 530.257 Q160.163 527.572 160.163 522.549 Q160.163 519.238 162.061 516.947 Q163.959 514.655 167.339 513.868 M165.626 506.484 Q165.626 509.169 167.292 510.674 Q168.982 512.178 172.014 512.178 Q175.024 512.178 176.714 510.674 Q178.426 509.169 178.426 506.484 Q178.426 503.799 176.714 502.294 Q175.024 500.789 172.014 500.789 Q168.982 500.789 167.292 502.294 Q165.626 503.799 165.626 506.484 Z\" fill=\"#000000\" fill-rule=\"evenodd\" fill-opacity=\"1\" /><path clip-path=\"url(#clip550)\" d=\"M 0 0 M117.501 173.601 L125.14 173.601 L125.14 147.236 L116.83 148.902 L116.83 144.643 L125.093 142.976 L129.769 142.976 L129.769 173.601 L137.408 173.601 L137.408 177.536 L117.501 177.536 L117.501 173.601 Z\" fill=\"#000000\" fill-rule=\"evenodd\" fill-opacity=\"1\" /><path clip-path=\"url(#clip550)\" d=\"M 0 0 M146.853 171.657 L151.737 171.657 L151.737 177.536 L146.853 177.536 L146.853 171.657 Z\" fill=\"#000000\" fill-rule=\"evenodd\" fill-opacity=\"1\" /><path clip-path=\"url(#clip550)\" d=\"M 0 0 M171.922 146.055 Q168.311 146.055 166.482 149.62 Q164.677 153.161 164.677 160.291 Q164.677 167.397 166.482 170.962 Q168.311 174.504 171.922 174.504 Q175.556 174.504 177.362 170.962 Q179.19 167.397 179.19 160.291 Q179.19 153.161 177.362 149.62 Q175.556 146.055 171.922 146.055 M171.922 142.351 Q177.732 142.351 180.788 146.958 Q183.866 151.541 183.866 160.291 Q183.866 169.018 180.788 173.624 Q177.732 178.208 171.922 178.208 Q166.112 178.208 163.033 173.624 Q159.978 169.018 159.978 160.291 Q159.978 151.541 163.033 146.958 Q166.112 142.351 171.922 142.351 Z\" fill=\"#000000\" fill-rule=\"evenodd\" fill-opacity=\"1\" /><path clip-path=\"url(#clip550)\" d=\"M 0 0 M16.4842 1067.56 L16.4842 1027.37 L21.895 1027.37 L21.895 1044.23 L64.0042 1044.23 L64.0042 1050.7 L21.895 1050.7 L21.895 1067.56 L16.4842 1067.56 Z\" fill=\"#000000\" fill-rule=\"evenodd\" fill-opacity=\"1\" /><path clip-path=\"url(#clip550)\" d=\"M 0 0 M33.8307 1010.34 Q33.2578 1011.32 33.0032 1012.5 Q32.7167 1013.65 32.7167 1015.05 Q32.7167 1020.01 35.9632 1022.69 Q39.1779 1025.33 45.2253 1025.33 L64.0042 1025.33 L64.0042 1031.22 L28.3562 1031.22 L28.3562 1025.33 L33.8944 1025.33 Q30.6479 1023.48 29.0883 1020.52 Q27.4968 1017.56 27.4968 1013.33 Q27.4968 1012.72 27.5923 1011.99 Q27.656 1011.26 27.8151 1010.37 L33.8307 1010.34 Z\" fill=\"#000000\" fill-rule=\"evenodd\" fill-opacity=\"1\" /><path clip-path=\"url(#clip550)\" d=\"M 0 0 M49.9359 1004.8 L28.3562 1004.8 L28.3562 998.943 L49.7131 998.943 Q54.7739 998.943 57.3202 996.969 Q59.8346 994.996 59.8346 991.049 Q59.8346 986.307 56.8109 983.569 Q53.7872 980.8 48.5673 980.8 L28.3562 980.8 L28.3562 974.944 L64.0042 974.944 L64.0042 980.8 L58.5296 980.8 Q61.7762 982.933 63.3676 985.766 Q64.9272 988.566 64.9272 992.29 Q64.9272 998.433 61.1078 1001.62 Q57.2883 1004.8 49.9359 1004.8 M27.4968 990.062 L27.4968 990.062 Z\" fill=\"#000000\" fill-rule=\"evenodd\" fill-opacity=\"1\" /><path clip-path=\"url(#clip550)\" d=\"M 0 0 M44.7161 932.389 L47.5806 932.389 L47.5806 959.316 Q53.6281 958.934 56.8109 955.688 Q59.9619 952.409 59.9619 946.585 Q59.9619 943.211 59.1344 940.06 Q58.3069 936.877 56.6518 933.758 L62.1899 933.758 Q63.5267 936.909 64.227 940.219 Q64.9272 943.529 64.9272 946.935 Q64.9272 955.465 59.9619 960.462 Q54.9967 965.427 46.5303 965.427 Q37.7774 965.427 32.6531 960.716 Q27.4968 955.974 27.4968 947.953 Q27.4968 940.76 32.1438 936.59 Q36.7589 932.389 44.7161 932.389 M42.9973 938.246 Q38.1912 938.309 35.3266 940.951 Q32.4621 943.561 32.4621 947.89 Q32.4621 952.791 35.2312 955.751 Q38.0002 958.679 43.0292 959.125 L42.9973 938.246 Z\" fill=\"#000000\" fill-rule=\"evenodd\" fill-opacity=\"1\" /><path clip-path=\"url(#clip550)\" d=\"M 0 0 M18.0438 873.315 L24.314 873.315 Q22.5634 876.976 21.704 880.222 Q20.8447 883.469 20.8447 886.492 Q20.8447 891.744 22.8817 894.609 Q24.9187 897.441 28.6745 897.441 Q31.8255 897.441 33.4488 895.563 Q35.0402 893.654 36.0269 888.37 L36.8226 884.487 Q38.1912 877.294 41.6605 873.888 Q45.098 870.451 50.8908 870.451 Q57.7976 870.451 61.3624 875.098 Q64.9272 879.713 64.9272 888.657 Q64.9272 892.03 64.1633 895.85 Q63.3994 899.638 61.9035 903.712 L55.2831 903.712 Q57.4793 899.797 58.5933 896.041 Q59.7073 892.285 59.7073 888.657 Q59.7073 883.15 57.543 880.158 Q55.3786 877.167 51.3682 877.167 Q47.8671 877.167 45.8937 879.331 Q43.9204 881.463 42.9337 886.365 L42.1698 890.28 Q40.7375 897.473 37.682 900.688 Q34.6264 903.903 29.1837 903.903 Q22.8817 903.903 19.2532 899.478 Q15.6248 895.022 15.6248 887.224 Q15.6248 883.882 16.2295 880.413 Q16.8343 876.944 18.0438 873.315 Z\" fill=\"#000000\" fill-rule=\"evenodd\" fill-opacity=\"1\" /><path clip-path=\"url(#clip550)\" d=\"M 0 0 M49.9359 861.284 L28.3562 861.284 L28.3562 855.428 L49.7131 855.428 Q54.7739 855.428 57.3202 853.454 Q59.8346 851.481 59.8346 847.534 Q59.8346 842.792 56.8109 840.055 Q53.7872 837.285 48.5673 837.285 L28.3562 837.285 L28.3562 831.429 L64.0042 831.429 L64.0042 837.285 L58.5296 837.285 Q61.7762 839.418 63.3676 842.251 Q64.9272 845.052 64.9272 848.776 Q64.9272 854.918 61.1078 858.101 Q57.2883 861.284 49.9359 861.284 M27.4968 846.548 L27.4968 846.548 Z\" fill=\"#000000\" fill-rule=\"evenodd\" fill-opacity=\"1\" /><path clip-path=\"url(#clip550)\" d=\"M 0 0 M29.7248 793.712 L35.1993 793.712 Q33.8307 796.195 33.1623 798.709 Q32.4621 801.192 32.4621 803.738 Q32.4621 809.435 36.0905 812.586 Q39.6872 815.738 46.212 815.738 Q52.7369 815.738 56.3653 812.586 Q59.9619 809.435 59.9619 803.738 Q59.9619 801.192 59.2935 798.709 Q58.5933 796.195 57.2247 793.712 L62.6355 793.712 Q63.7814 796.163 64.3543 798.805 Q64.9272 801.415 64.9272 804.375 Q64.9272 812.427 59.8664 817.17 Q54.8057 821.912 46.212 821.912 Q37.491 821.912 32.4939 817.138 Q27.4968 812.332 27.4968 803.993 Q27.4968 801.287 28.0697 798.709 Q28.6108 796.131 29.7248 793.712 Z\" fill=\"#000000\" fill-rule=\"evenodd\" fill-opacity=\"1\" /><path clip-path=\"url(#clip550)\" d=\"M 0 0 M29.7248 757.873 L35.1993 757.873 Q33.8307 760.356 33.1623 762.87 Q32.4621 765.353 32.4621 767.899 Q32.4621 773.597 36.0905 776.748 Q39.6872 779.899 46.212 779.899 Q52.7369 779.899 56.3653 776.748 Q59.9619 773.597 59.9619 767.899 Q59.9619 765.353 59.2935 762.87 Q58.5933 760.356 57.2247 757.873 L62.6355 757.873 Q63.7814 760.324 64.3543 762.966 Q64.9272 765.576 64.9272 768.536 Q64.9272 776.588 59.8664 781.331 Q54.8057 786.073 46.212 786.073 Q37.491 786.073 32.4939 781.299 Q27.4968 776.493 27.4968 768.154 Q27.4968 765.448 28.0697 762.87 Q28.6108 760.292 29.7248 757.873 Z\" fill=\"#000000\" fill-rule=\"evenodd\" fill-opacity=\"1\" /><path clip-path=\"url(#clip550)\" d=\"M 0 0 M44.7161 717.196 L47.5806 717.196 L47.5806 744.123 Q53.6281 743.741 56.8109 740.495 Q59.9619 737.217 59.9619 731.392 Q59.9619 728.018 59.1344 724.867 Q58.3069 721.684 56.6518 718.565 L62.1899 718.565 Q63.5267 721.716 64.227 725.026 Q64.9272 728.336 64.9272 731.742 Q64.9272 740.272 59.9619 745.269 Q54.9967 750.234 46.5303 750.234 Q37.7774 750.234 32.6531 745.524 Q27.4968 740.781 27.4968 732.761 Q27.4968 725.567 32.1438 721.398 Q36.7589 717.196 44.7161 717.196 M42.9973 723.053 Q38.1912 723.116 35.3266 725.758 Q32.4621 728.368 32.4621 732.697 Q32.4621 737.598 35.2312 740.559 Q38.0002 743.487 43.0292 743.932 L42.9973 723.053 Z\" fill=\"#000000\" fill-rule=\"evenodd\" fill-opacity=\"1\" /><path clip-path=\"url(#clip550)\" d=\"M 0 0 M29.4065 684.859 L34.9447 684.859 Q33.6716 687.341 33.035 690.015 Q32.3984 692.688 32.3984 695.553 Q32.3984 699.913 33.7352 702.11 Q35.072 704.274 37.7456 704.274 Q39.7826 704.274 40.9603 702.714 Q42.1061 701.155 43.1565 696.444 L43.6021 694.439 Q44.9389 688.201 47.3897 685.591 Q49.8086 682.949 54.1691 682.949 Q59.1344 682.949 62.0308 686.896 Q64.9272 690.811 64.9272 697.685 Q64.9272 700.55 64.3543 703.669 Q63.8132 706.757 62.6992 710.194 L56.6518 710.194 Q58.3387 706.948 59.198 703.797 Q60.0256 700.646 60.0256 697.558 Q60.0256 693.42 58.6251 691.192 Q57.1929 688.964 54.6147 688.964 Q52.2276 688.964 50.9545 690.588 Q49.6813 692.179 48.5037 697.622 L48.0262 699.659 Q46.8804 705.102 44.5251 707.52 Q42.138 709.939 38.0002 709.939 Q32.9713 709.939 30.2341 706.375 Q27.4968 702.81 27.4968 696.253 Q27.4968 693.007 27.9743 690.142 Q28.4517 687.278 29.4065 684.859 Z\" fill=\"#000000\" fill-rule=\"evenodd\" fill-opacity=\"1\" /><path clip-path=\"url(#clip550)\" d=\"M 0 0 M29.4065 650.898 L34.9447 650.898 Q33.6716 653.38 33.035 656.054 Q32.3984 658.727 32.3984 661.592 Q32.3984 665.952 33.7352 668.149 Q35.072 670.313 37.7456 670.313 Q39.7826 670.313 40.9603 668.753 Q42.1061 667.194 43.1565 662.483 L43.6021 660.478 Q44.9389 654.24 47.3897 651.63 Q49.8086 648.988 54.1691 648.988 Q59.1344 648.988 62.0308 652.935 Q64.9272 656.849 64.9272 663.724 Q64.9272 666.589 64.3543 669.708 Q63.8132 672.796 62.6992 676.233 L56.6518 676.233 Q58.3387 672.987 59.198 669.836 Q60.0256 666.684 60.0256 663.597 Q60.0256 659.459 58.6251 657.231 Q57.1929 655.003 54.6147 655.003 Q52.2276 655.003 50.9545 656.627 Q49.6813 658.218 48.5037 663.661 L48.0262 665.698 Q46.8804 671.14 44.5251 673.559 Q42.138 675.978 38.0002 675.978 Q32.9713 675.978 30.2341 672.414 Q27.4968 668.849 27.4968 662.292 Q27.4968 659.046 27.9743 656.181 Q28.4517 653.316 29.4065 650.898 Z\" fill=\"#000000\" fill-rule=\"evenodd\" fill-opacity=\"1\" /><path clip-path=\"url(#clip550)\" d=\"M 0 0 M41.7242 596.152 Q42.4244 594.084 44.7161 592.142 Q47.0077 590.169 51.0181 588.195 L64.0042 581.67 L64.0042 588.577 L51.8138 594.657 Q47.0395 597.012 45.48 599.24 Q43.9204 601.436 43.9204 605.255 L43.9204 612.258 L64.0042 612.258 L64.0042 618.687 L16.4842 618.687 L16.4842 604.173 Q16.4842 596.025 19.8898 592.015 Q23.2955 588.004 30.1704 588.004 Q34.6582 588.004 37.6183 590.105 Q40.5784 592.174 41.7242 596.152 M21.7677 612.258 L38.6368 612.258 L38.6368 604.173 Q38.6368 599.526 36.5043 597.171 Q34.34 594.784 30.1704 594.784 Q26.0009 594.784 23.9002 597.171 Q21.7677 599.526 21.7677 604.173 L21.7677 612.258 Z\" fill=\"#000000\" fill-rule=\"evenodd\" fill-opacity=\"1\" /><path clip-path=\"url(#clip550)\" d=\"M 0 0 M46.0847 558.881 Q46.0847 565.979 47.7079 568.716 Q49.3312 571.454 53.2461 571.454 Q56.3653 571.454 58.2114 569.416 Q60.0256 567.348 60.0256 563.815 Q60.0256 558.945 56.5881 556.017 Q53.1188 553.057 47.3897 553.057 L46.0847 553.057 L46.0847 558.881 M43.6657 547.2 L64.0042 547.2 L64.0042 553.057 L58.5933 553.057 Q61.8398 555.062 63.3994 558.054 Q64.9272 561.046 64.9272 565.374 Q64.9272 570.849 61.8716 574.095 Q58.7843 577.31 53.6281 577.31 Q47.6125 577.31 44.5569 573.3 Q41.5014 569.257 41.5014 561.268 L41.5014 553.057 L40.9285 553.057 Q36.8862 553.057 34.6901 555.73 Q32.4621 558.372 32.4621 563.178 Q32.4621 566.234 33.1941 569.13 Q33.9262 572.026 35.3903 574.7 L29.9795 574.7 Q28.7381 571.485 28.1334 568.462 Q27.4968 565.438 27.4968 562.573 Q27.4968 554.839 31.5072 551.02 Q35.5176 547.2 43.6657 547.2 Z\" fill=\"#000000\" fill-rule=\"evenodd\" fill-opacity=\"1\" /><path clip-path=\"url(#clip550)\" d=\"M 0 0 M18.2347 529.344 L28.3562 529.344 L28.3562 517.281 L32.9077 517.281 L32.9077 529.344 L52.2594 529.344 Q56.6199 529.344 57.8613 528.167 Q59.1026 526.957 59.1026 523.297 L59.1026 517.281 L64.0042 517.281 L64.0042 523.297 Q64.0042 530.076 61.4897 532.655 Q58.9434 535.233 52.2594 535.233 L32.9077 535.233 L32.9077 539.529 L28.3562 539.529 L28.3562 535.233 L18.2347 535.233 L18.2347 529.344 Z\" fill=\"#000000\" fill-rule=\"evenodd\" fill-opacity=\"1\" /><path clip-path=\"url(#clip550)\" d=\"M 0 0 M44.7161 479.087 L47.5806 479.087 L47.5806 506.014 Q53.6281 505.632 56.8109 502.386 Q59.9619 499.107 59.9619 493.283 Q59.9619 489.909 59.1344 486.758 Q58.3069 483.575 56.6518 480.456 L62.1899 480.456 Q63.5267 483.607 64.227 486.917 Q64.9272 490.227 64.9272 493.633 Q64.9272 502.163 59.9619 507.16 Q54.9967 512.125 46.5303 512.125 Q37.7774 512.125 32.6531 507.415 Q27.4968 502.672 27.4968 494.651 Q27.4968 487.458 32.1438 483.288 Q36.7589 479.087 44.7161 479.087 M42.9973 484.944 Q38.1912 485.007 35.3266 487.649 Q32.4621 490.259 32.4621 494.588 Q32.4621 499.489 35.2312 502.449 Q38.0002 505.377 43.0292 505.823 L42.9973 484.944 Z\" fill=\"#000000\" fill-rule=\"evenodd\" fill-opacity=\"1\" /><path clip-path=\"url(#clip550)\" d=\"M 0 0 M362.583 12.096 L373.602 12.096 L400.419 62.6918 L400.419 12.096 L408.359 12.096 L408.359 72.576 L397.34 72.576 L370.523 21.9802 L370.523 72.576 L362.583 72.576 L362.583 12.096 Z\" fill=\"#000000\" fill-rule=\"evenodd\" fill-opacity=\"1\" /><path clip-path=\"url(#clip550)\" d=\"M 0 0 M423.55 54.671 L423.55 27.2059 L431.003 27.2059 L431.003 54.3874 Q431.003 60.8284 433.515 64.0691 Q436.026 67.2693 441.049 67.2693 Q447.085 67.2693 450.569 63.421 Q454.093 59.5726 454.093 52.9291 L454.093 27.2059 L461.547 27.2059 L461.547 72.576 L454.093 72.576 L454.093 65.6084 Q451.379 69.7404 447.774 71.7658 Q444.209 73.7508 439.47 73.7508 Q431.651 73.7508 427.6 68.8897 Q423.55 64.0286 423.55 54.671 M442.305 26.1121 L442.305 26.1121 Z\" fill=\"#000000\" fill-rule=\"evenodd\" fill-opacity=\"1\" /><path clip-path=\"url(#clip550)\" d=\"M 0 0 M512.224 35.9153 Q515.019 30.8922 518.908 28.5022 Q522.797 26.1121 528.063 26.1121 Q535.152 26.1121 539 31.0947 Q542.849 36.0368 542.849 45.1919 L542.849 72.576 L535.354 72.576 L535.354 45.4349 Q535.354 38.913 533.045 35.7533 Q530.736 32.5936 525.997 32.5936 Q520.204 32.5936 516.842 36.4419 Q513.48 40.2903 513.48 46.9338 L513.48 72.576 L505.985 72.576 L505.985 45.4349 Q505.985 38.8725 503.676 35.7533 Q501.367 32.5936 496.547 32.5936 Q490.835 32.5936 487.473 36.4824 Q484.111 40.3308 484.111 46.9338 L484.111 72.576 L476.616 72.576 L476.616 27.2059 L484.111 27.2059 L484.111 34.2544 Q486.663 30.082 490.227 28.0971 Q493.792 26.1121 498.694 26.1121 Q503.636 26.1121 507.079 28.6237 Q510.563 31.1352 512.224 35.9153 Z\" fill=\"#000000\" fill-rule=\"evenodd\" fill-opacity=\"1\" /><path clip-path=\"url(#clip550)\" d=\"M 0 0 M596.523 48.0275 L596.523 51.6733 L562.252 51.6733 Q562.739 59.3701 566.87 63.421 Q571.043 67.4314 578.456 67.4314 Q582.75 67.4314 586.76 66.3781 Q590.811 65.3249 594.781 63.2184 L594.781 70.267 Q590.771 71.9684 586.558 72.8596 Q582.345 73.7508 578.01 73.7508 Q567.154 73.7508 560.794 67.4314 Q554.475 61.1119 554.475 50.3365 Q554.475 39.1965 560.47 32.6746 Q566.506 26.1121 576.714 26.1121 Q585.869 26.1121 591.176 32.0264 Q596.523 37.9003 596.523 48.0275 M589.069 45.84 Q588.988 39.7232 585.626 36.0774 Q582.304 32.4315 576.795 32.4315 Q570.557 32.4315 566.789 35.9558 Q563.063 39.4801 562.496 45.8805 L589.069 45.84 Z\" fill=\"#000000\" fill-rule=\"evenodd\" fill-opacity=\"1\" /><path clip-path=\"url(#clip550)\" d=\"M 0 0 M635.047 34.1734 Q633.791 33.4443 632.293 33.1202 Q630.834 32.7556 629.052 32.7556 Q622.732 32.7556 619.33 36.8875 Q615.967 40.9789 615.967 48.6757 L615.967 72.576 L608.473 72.576 L608.473 27.2059 L615.967 27.2059 L615.967 34.2544 Q618.317 30.1225 622.084 28.1376 Q625.852 26.1121 631.239 26.1121 Q632.009 26.1121 632.941 26.2337 Q633.872 26.3147 635.007 26.5172 L635.047 34.1734 Z\" fill=\"#000000\" fill-rule=\"evenodd\" fill-opacity=\"1\" /><path clip-path=\"url(#clip550)\" d=\"M 0 0 M642.865 27.2059 L650.319 27.2059 L650.319 72.576 L642.865 72.576 L642.865 27.2059 M642.865 9.54393 L650.319 9.54393 L650.319 18.9825 L642.865 18.9825 L642.865 9.54393 Z\" fill=\"#000000\" fill-rule=\"evenodd\" fill-opacity=\"1\" /><path clip-path=\"url(#clip550)\" d=\"M 0 0 M698.565 28.9478 L698.565 35.9153 Q695.406 34.1734 692.205 33.3227 Q689.046 32.4315 685.805 32.4315 Q678.554 32.4315 674.544 37.0496 Q670.533 41.6271 670.533 49.9314 Q670.533 58.2358 674.544 62.8538 Q678.554 67.4314 685.805 67.4314 Q689.046 67.4314 692.205 66.5807 Q695.406 65.6895 698.565 63.9476 L698.565 70.8341 Q695.446 72.2924 692.084 73.0216 Q688.762 73.7508 684.995 73.7508 Q674.746 73.7508 668.71 67.3098 Q662.674 60.8689 662.674 49.9314 Q662.674 38.832 668.751 32.472 Q674.868 26.1121 685.481 26.1121 Q688.924 26.1121 692.205 26.8413 Q695.487 27.5299 698.565 28.9478 Z\" fill=\"#000000\" fill-rule=\"evenodd\" fill-opacity=\"1\" /><path clip-path=\"url(#clip550)\" d=\"M 0 0 M732.552 27.2059 L740.452 27.2059 L754.63 65.2844 L768.808 27.2059 L776.707 27.2059 L759.694 72.576 L749.566 72.576 L732.552 27.2059 Z\" fill=\"#000000\" fill-rule=\"evenodd\" fill-opacity=\"1\" /><path clip-path=\"url(#clip550)\" d=\"M 0 0 M815.92 28.5427 L815.92 35.5912 Q812.76 33.9709 809.358 33.1607 Q805.955 32.3505 802.309 32.3505 Q796.759 32.3505 793.964 34.0519 Q791.21 35.7533 791.21 39.156 Q791.21 41.7486 793.195 43.2475 Q795.179 44.7058 801.175 46.0426 L803.727 46.6097 Q811.667 48.3111 814.988 51.4303 Q818.351 54.509 818.351 60.0587 Q818.351 66.3781 813.328 70.0644 Q808.345 73.7508 799.595 73.7508 Q795.949 73.7508 791.979 73.0216 Q788.05 72.3329 783.675 70.9151 L783.675 63.2184 Q787.807 65.3654 791.817 66.4591 Q795.828 67.5124 799.757 67.5124 Q805.023 67.5124 807.859 65.73 Q810.694 63.9071 810.694 60.6258 Q810.694 57.5877 808.628 55.9673 Q806.603 54.3469 799.676 52.8481 L797.083 52.2405 Q790.156 50.7821 787.078 47.7845 Q783.999 44.7463 783.999 39.4801 Q783.999 33.0797 788.536 29.5959 Q793.073 26.1121 801.418 26.1121 Q805.55 26.1121 809.196 26.7198 Q812.841 27.3274 815.92 28.5427 Z\" fill=\"#000000\" fill-rule=\"evenodd\" fill-opacity=\"1\" /><path clip-path=\"url(#clip550)\" d=\"M 0 0 M893.171 14.0809 L893.171 22.0612 Q888.512 19.8332 884.38 18.7395 Q880.248 17.6457 876.4 17.6457 Q869.716 17.6457 866.07 20.2383 Q862.465 22.8309 862.465 27.611 Q862.465 31.6214 864.855 33.6873 Q867.286 35.7128 874.01 36.9686 L878.952 37.9813 Q888.107 39.7232 892.442 44.1387 Q896.817 48.5136 896.817 55.8863 Q896.817 64.6767 890.902 69.2137 Q885.029 73.7508 873.645 73.7508 Q869.352 73.7508 864.49 72.7785 Q859.67 71.8063 854.485 69.9024 L854.485 61.4765 Q859.467 64.2716 864.247 65.6895 Q869.027 67.1073 873.645 67.1073 Q880.654 67.1073 884.461 64.3527 Q888.269 61.598 888.269 56.4939 Q888.269 52.0379 885.515 49.5264 Q882.801 47.0148 876.562 45.759 L871.58 44.7868 Q862.424 42.9639 858.333 39.075 Q854.242 35.1862 854.242 28.2591 Q854.242 20.2383 859.872 15.6203 Q865.544 11.0023 875.468 11.0023 Q879.722 11.0023 884.137 11.7719 Q888.553 12.5416 893.171 14.0809 Z\" fill=\"#000000\" fill-rule=\"evenodd\" fill-opacity=\"1\" /><path clip-path=\"url(#clip550)\" d=\"M 0 0 M928.13 76.7889 Q924.97 84.8907 921.973 87.3618 Q918.975 89.8329 913.952 89.8329 L907.997 89.8329 L907.997 83.5945 L912.372 83.5945 Q915.451 83.5945 917.152 82.1361 Q918.854 80.6778 920.92 75.2496 L922.256 71.8468 L903.906 27.2059 L911.805 27.2059 L925.983 62.6918 L940.161 27.2059 L948.061 27.2059 L928.13 76.7889 Z\" fill=\"#000000\" fill-rule=\"evenodd\" fill-opacity=\"1\" /><path clip-path=\"url(#clip550)\" d=\"M 0 0 M993.674 35.9153 Q996.469 30.8922 1000.36 28.5022 Q1004.25 26.1121 1009.51 26.1121 Q1016.6 26.1121 1020.45 31.0947 Q1024.3 36.0368 1024.3 45.1919 L1024.3 72.576 L1016.8 72.576 L1016.8 45.4349 Q1016.8 38.913 1014.5 35.7533 Q1012.19 32.5936 1007.45 32.5936 Q1001.65 32.5936 998.292 36.4419 Q994.93 40.2903 994.93 46.9338 L994.93 72.576 L987.435 72.576 L987.435 45.4349 Q987.435 38.8725 985.126 35.7533 Q982.817 32.5936 977.997 32.5936 Q972.285 32.5936 968.923 36.4824 Q965.56 40.3308 965.56 46.9338 L965.56 72.576 L958.066 72.576 L958.066 27.2059 L965.56 27.2059 L965.56 34.2544 Q968.113 30.082 971.677 28.0971 Q975.242 26.1121 980.144 26.1121 Q985.086 26.1121 988.529 28.6237 Q992.013 31.1352 993.674 35.9153 Z\" fill=\"#000000\" fill-rule=\"evenodd\" fill-opacity=\"1\" /><path clip-path=\"url(#clip550)\" d=\"M 0 0 M1071.73 49.9314 Q1071.73 41.7081 1068.33 37.0496 Q1064.97 32.3505 1059.06 32.3505 Q1053.14 32.3505 1049.74 37.0496 Q1046.38 41.7081 1046.38 49.9314 Q1046.38 58.1548 1049.74 62.8538 Q1053.14 67.5124 1059.06 67.5124 Q1064.97 67.5124 1068.33 62.8538 Q1071.73 58.1548 1071.73 49.9314 M1046.38 34.0924 Q1048.73 30.0415 1052.29 28.0971 Q1055.9 26.1121 1060.88 26.1121 Q1069.14 26.1121 1074.29 32.6746 Q1079.47 39.2371 1079.47 49.9314 Q1079.47 60.6258 1074.29 67.1883 Q1069.14 73.7508 1060.88 73.7508 Q1055.9 73.7508 1052.29 71.8063 Q1048.73 69.8214 1046.38 65.7705 L1046.38 72.576 L1038.88 72.576 L1038.88 9.54393 L1046.38 9.54393 L1046.38 34.0924 Z\" fill=\"#000000\" fill-rule=\"evenodd\" fill-opacity=\"1\" /><path clip-path=\"url(#clip550)\" d=\"M 0 0 M1109.41 32.4315 Q1103.41 32.4315 1099.93 37.1306 Q1096.45 41.7891 1096.45 49.9314 Q1096.45 58.0738 1099.89 62.7728 Q1103.37 67.4314 1109.41 67.4314 Q1115.36 67.4314 1118.85 62.7323 Q1122.33 58.0333 1122.33 49.9314 Q1122.33 41.8701 1118.85 37.1711 Q1115.36 32.4315 1109.41 32.4315 M1109.41 26.1121 Q1119.13 26.1121 1124.68 32.4315 Q1130.23 38.7509 1130.23 49.9314 Q1130.23 61.0714 1124.68 67.4314 Q1119.13 73.7508 1109.41 73.7508 Q1099.65 73.7508 1094.1 67.4314 Q1088.59 61.0714 1088.59 49.9314 Q1088.59 38.7509 1094.1 32.4315 Q1099.65 26.1121 1109.41 26.1121 Z\" fill=\"#000000\" fill-rule=\"evenodd\" fill-opacity=\"1\" /><path clip-path=\"url(#clip550)\" d=\"M 0 0 M1142.59 9.54393 L1150.04 9.54393 L1150.04 72.576 L1142.59 72.576 L1142.59 9.54393 Z\" fill=\"#000000\" fill-rule=\"evenodd\" fill-opacity=\"1\" /><path clip-path=\"url(#clip550)\" d=\"M 0 0 M1165.63 27.2059 L1173.09 27.2059 L1173.09 72.576 L1165.63 72.576 L1165.63 27.2059 M1165.63 9.54393 L1173.09 9.54393 L1173.09 18.9825 L1165.63 18.9825 L1165.63 9.54393 Z\" fill=\"#000000\" fill-rule=\"evenodd\" fill-opacity=\"1\" /><path clip-path=\"url(#clip550)\" d=\"M 0 0 M1221.33 28.9478 L1221.33 35.9153 Q1218.17 34.1734 1214.97 33.3227 Q1211.81 32.4315 1208.57 32.4315 Q1201.32 32.4315 1197.31 37.0496 Q1193.3 41.6271 1193.3 49.9314 Q1193.3 58.2358 1197.31 62.8538 Q1201.32 67.4314 1208.57 67.4314 Q1211.81 67.4314 1214.97 66.5807 Q1218.17 65.6895 1221.33 63.9476 L1221.33 70.8341 Q1218.22 72.2924 1214.85 73.0216 Q1211.53 73.7508 1207.76 73.7508 Q1197.52 73.7508 1191.48 67.3098 Q1185.44 60.8689 1185.44 49.9314 Q1185.44 38.832 1191.52 32.472 Q1197.64 26.1121 1208.25 26.1121 Q1211.69 26.1121 1214.97 26.8413 Q1218.26 27.5299 1221.33 28.9478 Z\" fill=\"#000000\" fill-rule=\"evenodd\" fill-opacity=\"1\" /><path clip-path=\"url(#clip550)\" d=\"M 0 0 M1269.18 18.8205 L1269.18 41.5461 L1279.47 41.5461 Q1285.18 41.5461 1288.3 38.5889 Q1291.42 35.6318 1291.42 30.163 Q1291.42 24.7348 1288.3 21.7777 Q1285.18 18.8205 1279.47 18.8205 L1269.18 18.8205 M1260.99 12.096 L1279.47 12.096 Q1289.63 12.096 1294.82 16.714 Q1300.04 21.2916 1300.04 30.163 Q1300.04 39.1155 1294.82 43.6931 Q1289.63 48.2706 1279.47 48.2706 L1269.18 48.2706 L1269.18 72.576 L1260.99 72.576 L1260.99 12.096 Z\" fill=\"#000000\" fill-rule=\"evenodd\" fill-opacity=\"1\" /><path clip-path=\"url(#clip550)\" d=\"M 0 0 M1346.55 48.0275 L1346.55 51.6733 L1312.28 51.6733 Q1312.76 59.3701 1316.9 63.421 Q1321.07 67.4314 1328.48 67.4314 Q1332.77 67.4314 1336.79 66.3781 Q1340.84 65.3249 1344.81 63.2184 L1344.81 70.267 Q1340.8 71.9684 1336.58 72.8596 Q1332.37 73.7508 1328.04 73.7508 Q1317.18 73.7508 1310.82 67.4314 Q1304.5 61.1119 1304.5 50.3365 Q1304.5 39.1965 1310.49 32.6746 Q1316.53 26.1121 1326.74 26.1121 Q1335.89 26.1121 1341.2 32.0264 Q1346.55 37.9003 1346.55 48.0275 M1339.09 45.84 Q1339.01 39.7232 1335.65 36.0774 Q1332.33 32.4315 1326.82 32.4315 Q1320.58 32.4315 1316.81 35.9558 Q1313.09 39.4801 1312.52 45.8805 L1339.09 45.84 Z\" fill=\"#000000\" fill-rule=\"evenodd\" fill-opacity=\"1\" /><path clip-path=\"url(#clip550)\" d=\"M 0 0 M1385.07 34.1734 Q1383.82 33.4443 1382.32 33.1202 Q1380.86 32.7556 1379.08 32.7556 Q1372.76 32.7556 1369.35 36.8875 Q1365.99 40.9789 1365.99 48.6757 L1365.99 72.576 L1358.5 72.576 L1358.5 27.2059 L1365.99 27.2059 L1365.99 34.2544 Q1368.34 30.1225 1372.11 28.1376 Q1375.88 26.1121 1381.26 26.1121 Q1382.03 26.1121 1382.97 26.2337 Q1383.9 26.3147 1385.03 26.5172 L1385.07 34.1734 Z\" fill=\"#000000\" fill-rule=\"evenodd\" fill-opacity=\"1\" /><path clip-path=\"url(#clip550)\" d=\"M 0 0 M1400.26 14.324 L1400.26 27.2059 L1415.62 27.2059 L1415.62 32.9987 L1400.26 32.9987 L1400.26 57.6282 Q1400.26 63.1779 1401.76 64.7578 Q1403.3 66.3376 1407.96 66.3376 L1415.62 66.3376 L1415.62 72.576 L1407.96 72.576 Q1399.33 72.576 1396.05 69.3758 Q1392.77 66.1351 1392.77 57.6282 L1392.77 32.9987 L1387.3 32.9987 L1387.3 27.2059 L1392.77 27.2059 L1392.77 14.324 L1400.26 14.324 Z\" fill=\"#000000\" fill-rule=\"evenodd\" fill-opacity=\"1\" /><path clip-path=\"url(#clip550)\" d=\"M 0 0 M1424.65 54.671 L1424.65 27.2059 L1432.1 27.2059 L1432.1 54.3874 Q1432.1 60.8284 1434.61 64.0691 Q1437.13 67.2693 1442.15 67.2693 Q1448.19 67.2693 1451.67 63.421 Q1455.19 59.5726 1455.19 52.9291 L1455.19 27.2059 L1462.65 27.2059 L1462.65 72.576 L1455.19 72.576 L1455.19 65.6084 Q1452.48 69.7404 1448.87 71.7658 Q1445.31 73.7508 1440.57 73.7508 Q1432.75 73.7508 1428.7 68.8897 Q1424.65 64.0286 1424.65 54.671 M1443.41 26.1121 L1443.41 26.1121 Z\" fill=\"#000000\" fill-rule=\"evenodd\" fill-opacity=\"1\" /><path clip-path=\"url(#clip550)\" d=\"M 0 0 M1504.29 34.1734 Q1503.03 33.4443 1501.54 33.1202 Q1500.08 32.7556 1498.29 32.7556 Q1491.98 32.7556 1488.57 36.8875 Q1485.21 40.9789 1485.21 48.6757 L1485.21 72.576 L1477.72 72.576 L1477.72 27.2059 L1485.21 27.2059 L1485.21 34.2544 Q1487.56 30.1225 1491.33 28.1376 Q1495.09 26.1121 1500.48 26.1121 Q1501.25 26.1121 1502.18 26.2337 Q1503.12 26.3147 1504.25 26.5172 L1504.29 34.1734 Z\" fill=\"#000000\" fill-rule=\"evenodd\" fill-opacity=\"1\" /><path clip-path=\"url(#clip550)\" d=\"M 0 0 M1544.68 49.9314 Q1544.68 41.7081 1541.27 37.0496 Q1537.91 32.3505 1532 32.3505 Q1526.08 32.3505 1522.68 37.0496 Q1519.32 41.7081 1519.32 49.9314 Q1519.32 58.1548 1522.68 62.8538 Q1526.08 67.5124 1532 67.5124 Q1537.91 67.5124 1541.27 62.8538 Q1544.68 58.1548 1544.68 49.9314 M1519.32 34.0924 Q1521.67 30.0415 1525.23 28.0971 Q1528.84 26.1121 1533.82 26.1121 Q1542.09 26.1121 1547.23 32.6746 Q1552.41 39.2371 1552.41 49.9314 Q1552.41 60.6258 1547.23 67.1883 Q1542.09 73.7508 1533.82 73.7508 Q1528.84 73.7508 1525.23 71.8063 Q1521.67 69.8214 1519.32 65.7705 L1519.32 72.576 L1511.82 72.576 L1511.82 9.54393 L1519.32 9.54393 L1519.32 34.0924 Z\" fill=\"#000000\" fill-rule=\"evenodd\" fill-opacity=\"1\" /><path clip-path=\"url(#clip550)\" d=\"M 0 0 M1585.39 49.7694 Q1576.36 49.7694 1572.87 51.8354 Q1569.39 53.9013 1569.39 58.8839 Q1569.39 62.8538 1571.98 65.2034 Q1574.61 67.5124 1579.11 67.5124 Q1585.31 67.5124 1589.04 63.1374 Q1592.8 58.7219 1592.8 51.4303 L1592.8 49.7694 L1585.39 49.7694 M1600.26 46.6907 L1600.26 72.576 L1592.8 72.576 L1592.8 65.6895 Q1590.25 69.8214 1586.44 71.8063 Q1582.63 73.7508 1577.13 73.7508 Q1570.16 73.7508 1566.03 69.8619 Q1561.93 65.9325 1561.93 59.3701 Q1561.93 51.7138 1567.04 47.825 Q1572.18 43.9361 1582.35 43.9361 L1592.8 43.9361 L1592.8 43.2069 Q1592.8 38.0623 1589.4 35.2672 Q1586.04 32.4315 1579.92 32.4315 Q1576.03 32.4315 1572.35 33.3632 Q1568.66 34.295 1565.26 36.1584 L1565.26 29.2718 Q1569.35 27.692 1573.2 26.9223 Q1577.04 26.1121 1580.69 26.1121 Q1590.53 26.1121 1595.4 31.2163 Q1600.26 36.3204 1600.26 46.6907 Z\" fill=\"#000000\" fill-rule=\"evenodd\" fill-opacity=\"1\" /><path clip-path=\"url(#clip550)\" d=\"M 0 0 M1622.98 14.324 L1622.98 27.2059 L1638.33 27.2059 L1638.33 32.9987 L1622.98 32.9987 L1622.98 57.6282 Q1622.98 63.1779 1624.48 64.7578 Q1626.02 66.3376 1630.68 66.3376 L1638.33 66.3376 L1638.33 72.576 L1630.68 72.576 Q1622.05 72.576 1618.77 69.3758 Q1615.49 66.1351 1615.49 57.6282 L1615.49 32.9987 L1610.02 32.9987 L1610.02 27.2059 L1615.49 27.2059 L1615.49 14.324 L1622.98 14.324 Z\" fill=\"#000000\" fill-rule=\"evenodd\" fill-opacity=\"1\" /><path clip-path=\"url(#clip550)\" d=\"M 0 0 M1648.14 27.2059 L1655.59 27.2059 L1655.59 72.576 L1648.14 72.576 L1648.14 27.2059 M1648.14 9.54393 L1655.59 9.54393 L1655.59 18.9825 L1648.14 18.9825 L1648.14 9.54393 Z\" fill=\"#000000\" fill-rule=\"evenodd\" fill-opacity=\"1\" /><path clip-path=\"url(#clip550)\" d=\"M 0 0 M1665.84 27.2059 L1673.74 27.2059 L1687.92 65.2844 L1702.1 27.2059 L1710 27.2059 L1692.98 72.576 L1682.85 72.576 L1665.84 27.2059 Z\" fill=\"#000000\" fill-rule=\"evenodd\" fill-opacity=\"1\" /><path clip-path=\"url(#clip550)\" d=\"M 0 0 M1759.09 48.0275 L1759.09 51.6733 L1724.82 51.6733 Q1725.31 59.3701 1729.44 63.421 Q1733.61 67.4314 1741.03 67.4314 Q1745.32 67.4314 1749.33 66.3781 Q1753.38 65.3249 1757.35 63.2184 L1757.35 70.267 Q1753.34 71.9684 1749.13 72.8596 Q1744.91 73.7508 1740.58 73.7508 Q1729.72 73.7508 1723.36 67.4314 Q1717.04 61.1119 1717.04 50.3365 Q1717.04 39.1965 1723.04 32.6746 Q1729.07 26.1121 1739.28 26.1121 Q1748.44 26.1121 1753.74 32.0264 Q1759.09 37.9003 1759.09 48.0275 M1751.64 45.84 Q1751.56 39.7232 1748.2 36.0774 Q1744.87 32.4315 1739.36 32.4315 Q1733.13 32.4315 1729.36 35.9558 Q1725.63 39.4801 1725.06 45.8805 L1751.64 45.84 Z\" fill=\"#000000\" fill-rule=\"evenodd\" fill-opacity=\"1\" /><path clip-path=\"url(#clip550)\" d=\"M 0 0 M1798.02 12.096 L1836.26 12.096 L1836.26 18.9825 L1806.2 18.9825 L1806.2 36.8875 L1835.01 36.8875 L1835.01 43.7741 L1806.2 43.7741 L1806.2 65.6895 L1836.99 65.6895 L1836.99 72.576 L1798.02 72.576 L1798.02 12.096 Z\" fill=\"#000000\" fill-rule=\"evenodd\" fill-opacity=\"1\" /><path clip-path=\"url(#clip550)\" d=\"M 0 0 M1887.83 27.2059 L1871.42 49.2833 L1888.68 72.576 L1879.89 72.576 L1866.68 54.752 L1853.48 72.576 L1844.69 72.576 L1862.31 48.8377 L1846.19 27.2059 L1854.98 27.2059 L1867.01 43.369 L1879.04 27.2059 L1887.83 27.2059 Z\" fill=\"#000000\" fill-rule=\"evenodd\" fill-opacity=\"1\" /><path clip-path=\"url(#clip550)\" d=\"M 0 0 M1906.42 65.7705 L1906.42 89.8329 L1898.93 89.8329 L1898.93 27.2059 L1906.42 27.2059 L1906.42 34.0924 Q1908.77 30.0415 1912.34 28.0971 Q1915.94 26.1121 1920.93 26.1121 Q1929.19 26.1121 1934.33 32.6746 Q1939.52 39.2371 1939.52 49.9314 Q1939.52 60.6258 1934.33 67.1883 Q1929.19 73.7508 1920.93 73.7508 Q1915.94 73.7508 1912.34 71.8063 Q1908.77 69.8214 1906.42 65.7705 M1931.78 49.9314 Q1931.78 41.7081 1928.38 37.0496 Q1925.02 32.3505 1919.1 32.3505 Q1913.19 32.3505 1909.79 37.0496 Q1906.42 41.7081 1906.42 49.9314 Q1906.42 58.1548 1909.79 62.8538 Q1913.19 67.5124 1919.1 67.5124 Q1925.02 67.5124 1928.38 62.8538 Q1931.78 58.1548 1931.78 49.9314 Z\" fill=\"#000000\" fill-rule=\"evenodd\" fill-opacity=\"1\" /><path clip-path=\"url(#clip550)\" d=\"M 0 0 M1972.49 49.7694 Q1963.46 49.7694 1959.98 51.8354 Q1956.49 53.9013 1956.49 58.8839 Q1956.49 62.8538 1959.09 65.2034 Q1961.72 67.5124 1966.21 67.5124 Q1972.41 67.5124 1976.14 63.1374 Q1979.91 58.7219 1979.91 51.4303 L1979.91 49.7694 L1972.49 49.7694 M1987.36 46.6907 L1987.36 72.576 L1979.91 72.576 L1979.91 65.6895 Q1977.35 69.8214 1973.55 71.8063 Q1969.74 73.7508 1964.23 73.7508 Q1957.26 73.7508 1953.13 69.8619 Q1949.04 65.9325 1949.04 59.3701 Q1949.04 51.7138 1954.14 47.825 Q1959.29 43.9361 1969.46 43.9361 L1979.91 43.9361 L1979.91 43.2069 Q1979.91 38.0623 1976.5 35.2672 Q1973.14 32.4315 1967.03 32.4315 Q1963.14 32.4315 1959.45 33.3632 Q1955.76 34.295 1952.36 36.1584 L1952.36 29.2718 Q1956.45 27.692 1960.3 26.9223 Q1964.15 26.1121 1967.79 26.1121 Q1977.64 26.1121 1982.5 31.2163 Q1987.36 36.3204 1987.36 46.6907 Z\" fill=\"#000000\" fill-rule=\"evenodd\" fill-opacity=\"1\" /><path clip-path=\"url(#clip550)\" d=\"M 0 0 M2040.43 45.1919 L2040.43 72.576 L2032.97 72.576 L2032.97 45.4349 Q2032.97 38.994 2030.46 35.7938 Q2027.95 32.5936 2022.93 32.5936 Q2016.89 32.5936 2013.41 36.4419 Q2009.92 40.2903 2009.92 46.9338 L2009.92 72.576 L2002.43 72.576 L2002.43 27.2059 L2009.92 27.2059 L2009.92 34.2544 Q2012.6 30.163 2016.2 28.1376 Q2019.85 26.1121 2024.59 26.1121 Q2032.41 26.1121 2036.42 30.9732 Q2040.43 35.7938 2040.43 45.1919 Z\" fill=\"#000000\" fill-rule=\"evenodd\" fill-opacity=\"1\" /><path clip-path=\"url(#clip550)\" d=\"M 0 0 M2084.22 28.5427 L2084.22 35.5912 Q2081.06 33.9709 2077.66 33.1607 Q2074.25 32.3505 2070.61 32.3505 Q2065.06 32.3505 2062.26 34.0519 Q2059.51 35.7533 2059.51 39.156 Q2059.51 41.7486 2061.49 43.2475 Q2063.48 44.7058 2069.47 46.0426 L2072.02 46.6097 Q2079.96 48.3111 2083.29 51.4303 Q2086.65 54.509 2086.65 60.0587 Q2086.65 66.3781 2081.63 70.0644 Q2076.64 73.7508 2067.89 73.7508 Q2064.25 73.7508 2060.28 73.0216 Q2056.35 72.3329 2051.97 70.9151 L2051.97 63.2184 Q2056.1 65.3654 2060.11 66.4591 Q2064.13 67.5124 2068.05 67.5124 Q2073.32 67.5124 2076.16 65.73 Q2078.99 63.9071 2078.99 60.6258 Q2078.99 57.5877 2076.93 55.9673 Q2074.9 54.3469 2067.97 52.8481 L2065.38 52.2405 Q2058.45 50.7821 2055.38 47.7845 Q2052.3 44.7463 2052.3 39.4801 Q2052.3 33.0797 2056.83 29.5959 Q2061.37 26.1121 2069.72 26.1121 Q2073.85 26.1121 2077.49 26.7198 Q2081.14 27.3274 2084.22 28.5427 Z\" fill=\"#000000\" fill-rule=\"evenodd\" fill-opacity=\"1\" /><path clip-path=\"url(#clip550)\" d=\"M 0 0 M2098.52 27.2059 L2105.97 27.2059 L2105.97 72.576 L2098.52 72.576 L2098.52 27.2059 M2098.52 9.54393 L2105.97 9.54393 L2105.97 18.9825 L2098.52 18.9825 L2098.52 9.54393 Z\" fill=\"#000000\" fill-rule=\"evenodd\" fill-opacity=\"1\" /><path clip-path=\"url(#clip550)\" d=\"M 0 0 M2139.15 32.4315 Q2133.15 32.4315 2129.67 37.1306 Q2126.19 41.7891 2126.19 49.9314 Q2126.19 58.0738 2129.63 62.7728 Q2133.11 67.4314 2139.15 67.4314 Q2145.1 67.4314 2148.59 62.7323 Q2152.07 58.0333 2152.07 49.9314 Q2152.07 41.8701 2148.59 37.1711 Q2145.1 32.4315 2139.15 32.4315 M2139.15 26.1121 Q2148.87 26.1121 2154.42 32.4315 Q2159.97 38.7509 2159.97 49.9314 Q2159.97 61.0714 2154.42 67.4314 Q2148.87 73.7508 2139.15 73.7508 Q2129.39 73.7508 2123.84 67.4314 Q2118.33 61.0714 2118.33 49.9314 Q2118.33 38.7509 2123.84 32.4315 Q2129.39 26.1121 2139.15 26.1121 Z\" fill=\"#000000\" fill-rule=\"evenodd\" fill-opacity=\"1\" /><path clip-path=\"url(#clip550)\" d=\"M 0 0 M2210.04 45.1919 L2210.04 72.576 L2202.59 72.576 L2202.59 45.4349 Q2202.59 38.994 2200.07 35.7938 Q2197.56 32.5936 2192.54 32.5936 Q2186.5 32.5936 2183.02 36.4419 Q2179.54 40.2903 2179.54 46.9338 L2179.54 72.576 L2172.04 72.576 L2172.04 27.2059 L2179.54 27.2059 L2179.54 34.2544 Q2182.21 30.163 2185.81 28.1376 Q2189.46 26.1121 2194.2 26.1121 Q2202.02 26.1121 2206.03 30.9732 Q2210.04 35.7938 2210.04 45.1919 Z\" fill=\"#000000\" fill-rule=\"evenodd\" fill-opacity=\"1\" /><polyline clip-path=\"url(#clip552)\" style=\"stroke:#009af9; stroke-width:4; stroke-opacity:1; fill:none\" points=\"\n",
       "  280.231,160.256 481.447,331.334 682.663,490.208 883.879,637.438 1085.1,773.569 1286.31,899.135 1487.53,1014.66 1688.74,1120.65 1889.96,1217.62 2091.18,1306.04 \n",
       "  2292.39,1386.4 \n",
       "  \"/>\n",
       "<polyline clip-path=\"url(#clip552)\" style=\"stroke:#e26f46; stroke-width:0; stroke-opacity:1; fill:none\" points=\"\n",
       "  280.231,160.256 481.447,331.334 682.663,490.208 883.879,637.438 1085.1,773.569 1286.31,899.135 1487.53,1014.66 1688.74,1120.65 1889.96,1217.62 2091.18,1306.04 \n",
       "  2292.39,1386.4 \n",
       "  \"/>\n",
       "<circle clip-path=\"url(#clip552)\" cx=\"280.231\" cy=\"160.256\" r=\"14\" fill=\"#e26f46\" fill-rule=\"evenodd\" fill-opacity=\"1\" stroke=\"#000000\" stroke-opacity=\"1\" stroke-width=\"3.2\"/>\n",
       "<circle clip-path=\"url(#clip552)\" cx=\"481.447\" cy=\"331.334\" r=\"14\" fill=\"#e26f46\" fill-rule=\"evenodd\" fill-opacity=\"1\" stroke=\"#000000\" stroke-opacity=\"1\" stroke-width=\"3.2\"/>\n",
       "<circle clip-path=\"url(#clip552)\" cx=\"682.663\" cy=\"490.208\" r=\"14\" fill=\"#e26f46\" fill-rule=\"evenodd\" fill-opacity=\"1\" stroke=\"#000000\" stroke-opacity=\"1\" stroke-width=\"3.2\"/>\n",
       "<circle clip-path=\"url(#clip552)\" cx=\"883.879\" cy=\"637.438\" r=\"14\" fill=\"#e26f46\" fill-rule=\"evenodd\" fill-opacity=\"1\" stroke=\"#000000\" stroke-opacity=\"1\" stroke-width=\"3.2\"/>\n",
       "<circle clip-path=\"url(#clip552)\" cx=\"1085.1\" cy=\"773.569\" r=\"14\" fill=\"#e26f46\" fill-rule=\"evenodd\" fill-opacity=\"1\" stroke=\"#000000\" stroke-opacity=\"1\" stroke-width=\"3.2\"/>\n",
       "<circle clip-path=\"url(#clip552)\" cx=\"1286.31\" cy=\"899.135\" r=\"14\" fill=\"#e26f46\" fill-rule=\"evenodd\" fill-opacity=\"1\" stroke=\"#000000\" stroke-opacity=\"1\" stroke-width=\"3.2\"/>\n",
       "<circle clip-path=\"url(#clip552)\" cx=\"1487.53\" cy=\"1014.66\" r=\"14\" fill=\"#e26f46\" fill-rule=\"evenodd\" fill-opacity=\"1\" stroke=\"#000000\" stroke-opacity=\"1\" stroke-width=\"3.2\"/>\n",
       "<circle clip-path=\"url(#clip552)\" cx=\"1688.74\" cy=\"1120.65\" r=\"14\" fill=\"#e26f46\" fill-rule=\"evenodd\" fill-opacity=\"1\" stroke=\"#000000\" stroke-opacity=\"1\" stroke-width=\"3.2\"/>\n",
       "<circle clip-path=\"url(#clip552)\" cx=\"1889.96\" cy=\"1217.62\" r=\"14\" fill=\"#e26f46\" fill-rule=\"evenodd\" fill-opacity=\"1\" stroke=\"#000000\" stroke-opacity=\"1\" stroke-width=\"3.2\"/>\n",
       "<circle clip-path=\"url(#clip552)\" cx=\"2091.18\" cy=\"1306.04\" r=\"14\" fill=\"#e26f46\" fill-rule=\"evenodd\" fill-opacity=\"1\" stroke=\"#000000\" stroke-opacity=\"1\" stroke-width=\"3.2\"/>\n",
       "<circle clip-path=\"url(#clip552)\" cx=\"2292.39\" cy=\"1386.4\" r=\"14\" fill=\"#e26f46\" fill-rule=\"evenodd\" fill-opacity=\"1\" stroke=\"#000000\" stroke-opacity=\"1\" stroke-width=\"3.2\"/>\n",
       "<path clip-path=\"url(#clip550)\" d=\"\n",
       "M1839.74 348.236 L2281.66 348.236 L2281.66 166.796 L1839.74 166.796  Z\n",
       "  \" fill=\"#ffffff\" fill-rule=\"evenodd\" fill-opacity=\"1\"/>\n",
       "<polyline clip-path=\"url(#clip550)\" style=\"stroke:#000000; stroke-width:4; stroke-opacity:1; fill:none\" points=\"\n",
       "  1839.74,348.236 2281.66,348.236 2281.66,166.796 1839.74,166.796 1839.74,348.236 \n",
       "  \"/>\n",
       "<polyline clip-path=\"url(#clip550)\" style=\"stroke:#009af9; stroke-width:4; stroke-opacity:1; fill:none\" points=\"\n",
       "  1863.44,227.276 2005.63,227.276 \n",
       "  \"/>\n",
       "<path clip-path=\"url(#clip550)\" d=\"M 0 0 M2047.76 219.394 L2047.76 223.422 Q2045.95 222.496 2044.01 222.033 Q2042.06 221.57 2039.98 221.57 Q2036.81 221.57 2035.21 222.542 Q2033.64 223.514 2033.64 225.459 Q2033.64 226.94 2034.77 227.797 Q2035.91 228.63 2039.33 229.394 L2040.79 229.718 Q2045.33 230.69 2047.23 232.472 Q2049.15 234.232 2049.15 237.403 Q2049.15 241.014 2046.28 243.121 Q2043.43 245.227 2038.43 245.227 Q2036.35 245.227 2034.08 244.81 Q2031.83 244.417 2029.33 243.607 L2029.33 239.209 Q2031.69 240.435 2033.99 241.06 Q2036.28 241.662 2038.52 241.662 Q2041.53 241.662 2043.15 240.644 Q2044.77 239.602 2044.77 237.727 Q2044.77 235.991 2043.59 235.065 Q2042.43 234.139 2038.48 233.283 L2036.99 232.935 Q2033.04 232.102 2031.28 230.389 Q2029.52 228.653 2029.52 225.644 Q2029.52 221.986 2032.11 219.996 Q2034.7 218.005 2039.47 218.005 Q2041.83 218.005 2043.92 218.352 Q2046 218.699 2047.76 219.394 Z\" fill=\"#000000\" fill-rule=\"evenodd\" fill-opacity=\"1\" /><path clip-path=\"url(#clip550)\" d=\"M 0 0 M2066.72 246.963 Q2064.91 251.593 2063.2 253.005 Q2061.49 254.417 2058.61 254.417 L2055.21 254.417 L2055.21 250.852 L2057.71 250.852 Q2059.47 250.852 2060.44 250.019 Q2061.42 249.185 2062.6 246.083 L2063.36 244.139 L2052.87 218.63 L2057.39 218.63 L2065.49 238.908 L2073.59 218.63 L2078.11 218.63 L2066.72 246.963 Z\" fill=\"#000000\" fill-rule=\"evenodd\" fill-opacity=\"1\" /><path clip-path=\"url(#clip550)\" d=\"M 0 0 M2104.17 223.607 Q2105.77 220.736 2107.99 219.371 Q2110.21 218.005 2113.22 218.005 Q2117.27 218.005 2119.47 220.852 Q2121.67 223.676 2121.67 228.908 L2121.67 244.556 L2117.39 244.556 L2117.39 229.047 Q2117.39 225.32 2116.07 223.514 Q2114.75 221.709 2112.04 221.709 Q2108.73 221.709 2106.81 223.908 Q2104.89 226.107 2104.89 229.903 L2104.89 244.556 L2100.61 244.556 L2100.61 229.047 Q2100.61 225.297 2099.29 223.514 Q2097.97 221.709 2095.21 221.709 Q2091.95 221.709 2090.03 223.931 Q2088.11 226.13 2088.11 229.903 L2088.11 244.556 L2083.82 244.556 L2083.82 218.63 L2088.11 218.63 L2088.11 222.658 Q2089.56 220.273 2091.6 219.139 Q2093.64 218.005 2096.44 218.005 Q2099.26 218.005 2101.23 219.44 Q2103.22 220.875 2104.17 223.607 Z\" fill=\"#000000\" fill-rule=\"evenodd\" fill-opacity=\"1\" /><path clip-path=\"url(#clip550)\" d=\"M 0 0 M2148.78 231.616 Q2148.78 226.917 2146.83 224.255 Q2144.91 221.57 2141.53 221.57 Q2138.15 221.57 2136.21 224.255 Q2134.29 226.917 2134.29 231.616 Q2134.29 236.315 2136.21 239 Q2138.15 241.662 2141.53 241.662 Q2144.91 241.662 2146.83 239 Q2148.78 236.315 2148.78 231.616 M2134.29 222.565 Q2135.63 220.25 2137.67 219.139 Q2139.73 218.005 2142.57 218.005 Q2147.29 218.005 2150.23 221.755 Q2153.2 225.505 2153.2 231.616 Q2153.2 237.727 2150.23 241.477 Q2147.29 245.227 2142.57 245.227 Q2139.73 245.227 2137.67 244.116 Q2135.63 242.982 2134.29 240.667 L2134.29 244.556 L2130 244.556 L2130 208.537 L2134.29 208.537 L2134.29 222.565 Z\" fill=\"#000000\" fill-rule=\"evenodd\" fill-opacity=\"1\" /><path clip-path=\"url(#clip550)\" d=\"M 0 0 M2170.3 221.616 Q2166.88 221.616 2164.89 224.301 Q2162.9 226.963 2162.9 231.616 Q2162.9 236.269 2164.86 238.954 Q2166.85 241.616 2170.3 241.616 Q2173.71 241.616 2175.7 238.931 Q2177.69 236.246 2177.69 231.616 Q2177.69 227.01 2175.7 224.324 Q2173.71 221.616 2170.3 221.616 M2170.3 218.005 Q2175.86 218.005 2179.03 221.616 Q2182.2 225.227 2182.2 231.616 Q2182.2 237.982 2179.03 241.616 Q2175.86 245.227 2170.3 245.227 Q2164.73 245.227 2161.55 241.616 Q2158.41 237.982 2158.41 231.616 Q2158.41 225.227 2161.55 221.616 Q2164.73 218.005 2170.3 218.005 Z\" fill=\"#000000\" fill-rule=\"evenodd\" fill-opacity=\"1\" /><path clip-path=\"url(#clip550)\" d=\"M 0 0 M2189.26 208.537 L2193.52 208.537 L2193.52 244.556 L2189.26 244.556 L2189.26 208.537 Z\" fill=\"#000000\" fill-rule=\"evenodd\" fill-opacity=\"1\" /><path clip-path=\"url(#clip550)\" d=\"M 0 0 M2202.43 218.63 L2206.69 218.63 L2206.69 244.556 L2202.43 244.556 L2202.43 218.63 M2202.43 208.537 L2206.69 208.537 L2206.69 213.931 L2202.43 213.931 L2202.43 208.537 Z\" fill=\"#000000\" fill-rule=\"evenodd\" fill-opacity=\"1\" /><path clip-path=\"url(#clip550)\" d=\"M 0 0 M2234.26 219.625 L2234.26 223.607 Q2232.46 222.611 2230.63 222.125 Q2228.82 221.616 2226.97 221.616 Q2222.83 221.616 2220.54 224.255 Q2218.24 226.871 2218.24 231.616 Q2218.24 236.361 2220.54 239 Q2222.83 241.616 2226.97 241.616 Q2228.82 241.616 2230.63 241.13 Q2232.46 240.621 2234.26 239.625 L2234.26 243.56 Q2232.48 244.394 2230.56 244.81 Q2228.66 245.227 2226.51 245.227 Q2220.65 245.227 2217.2 241.546 Q2213.75 237.866 2213.75 231.616 Q2213.75 225.273 2217.23 221.639 Q2220.72 218.005 2226.79 218.005 Q2228.75 218.005 2230.63 218.422 Q2232.5 218.815 2234.26 219.625 Z\" fill=\"#000000\" fill-rule=\"evenodd\" fill-opacity=\"1\" /><polyline clip-path=\"url(#clip550)\" style=\"stroke:#e26f46; stroke-width:4; stroke-opacity:1; fill:none\" points=\"\n",
       "  1863.44,287.756 2005.63,287.756 \n",
       "  \"/>\n",
       "<circle clip-path=\"url(#clip550)\" cx=\"1934.54\" cy=\"287.756\" r=\"23\" fill=\"#e26f46\" fill-rule=\"evenodd\" fill-opacity=\"1\" stroke=\"#000000\" stroke-opacity=\"1\" stroke-width=\"5.12\"/>\n",
       "<path clip-path=\"url(#clip550)\" d=\"M 0 0 M2051.05 289.388 L2051.05 305.036 L2046.79 305.036 L2046.79 289.527 Q2046.79 285.846 2045.35 284.017 Q2043.92 282.189 2041.05 282.189 Q2037.6 282.189 2035.61 284.388 Q2033.61 286.587 2033.61 290.383 L2033.61 305.036 L2029.33 305.036 L2029.33 279.11 L2033.61 279.11 L2033.61 283.138 Q2035.14 280.8 2037.2 279.642 Q2039.29 278.485 2041.99 278.485 Q2046.46 278.485 2048.75 281.263 Q2051.05 284.017 2051.05 289.388 Z\" fill=\"#000000\" fill-rule=\"evenodd\" fill-opacity=\"1\" /><path clip-path=\"url(#clip550)\" d=\"M 0 0 M2059.1 294.804 L2059.1 279.11 L2063.36 279.11 L2063.36 294.642 Q2063.36 298.323 2064.8 300.175 Q2066.23 302.003 2069.1 302.003 Q2072.55 302.003 2074.54 299.804 Q2076.55 297.605 2076.55 293.809 L2076.55 279.11 L2080.81 279.11 L2080.81 305.036 L2076.55 305.036 L2076.55 301.054 Q2075 303.415 2072.94 304.573 Q2070.91 305.707 2068.2 305.707 Q2063.73 305.707 2061.42 302.929 Q2059.1 300.151 2059.1 294.804 M2069.82 278.485 L2069.82 278.485 Z\" fill=\"#000000\" fill-rule=\"evenodd\" fill-opacity=\"1\" /><path clip-path=\"url(#clip550)\" d=\"M 0 0 M2109.77 284.087 Q2111.37 281.216 2113.59 279.851 Q2115.81 278.485 2118.82 278.485 Q2122.87 278.485 2125.07 281.332 Q2127.27 284.156 2127.27 289.388 L2127.27 305.036 L2122.99 305.036 L2122.99 289.527 Q2122.99 285.8 2121.67 283.994 Q2120.35 282.189 2117.64 282.189 Q2114.33 282.189 2112.41 284.388 Q2110.49 286.587 2110.49 290.383 L2110.49 305.036 L2106.21 305.036 L2106.21 289.527 Q2106.21 285.777 2104.89 283.994 Q2103.57 282.189 2100.81 282.189 Q2097.55 282.189 2095.63 284.411 Q2093.71 286.61 2093.71 290.383 L2093.71 305.036 L2089.42 305.036 L2089.42 279.11 L2093.71 279.11 L2093.71 283.138 Q2095.17 280.753 2097.2 279.619 Q2099.24 278.485 2102.04 278.485 Q2104.86 278.485 2106.83 279.92 Q2108.82 281.355 2109.77 284.087 Z\" fill=\"#000000\" fill-rule=\"evenodd\" fill-opacity=\"1\" /><path clip-path=\"url(#clip550)\" d=\"M 0 0 M2157.94 291.008 L2157.94 293.091 L2138.36 293.091 Q2138.64 297.489 2141 299.804 Q2143.38 302.096 2147.62 302.096 Q2150.07 302.096 2152.36 301.494 Q2154.68 300.892 2156.95 299.689 L2156.95 303.716 Q2154.66 304.688 2152.25 305.198 Q2149.84 305.707 2147.36 305.707 Q2141.16 305.707 2137.53 302.096 Q2133.92 298.485 2133.92 292.327 Q2133.92 285.962 2137.34 282.235 Q2140.79 278.485 2146.62 278.485 Q2151.86 278.485 2154.89 281.865 Q2157.94 285.221 2157.94 291.008 M2153.68 289.758 Q2153.64 286.263 2151.72 284.179 Q2149.82 282.096 2146.67 282.096 Q2143.11 282.096 2140.95 284.11 Q2138.82 286.124 2138.5 289.781 L2153.68 289.758 Z\" fill=\"#000000\" fill-rule=\"evenodd\" fill-opacity=\"1\" /><path clip-path=\"url(#clip550)\" d=\"M 0 0 M2179.96 283.091 Q2179.24 282.675 2178.38 282.49 Q2177.55 282.281 2176.53 282.281 Q2172.92 282.281 2170.98 284.642 Q2169.05 286.98 2169.05 291.378 L2169.05 305.036 L2164.77 305.036 L2164.77 279.11 L2169.05 279.11 L2169.05 283.138 Q2170.4 280.777 2172.55 279.642 Q2174.7 278.485 2177.78 278.485 Q2178.22 278.485 2178.75 278.554 Q2179.29 278.601 2179.93 278.716 L2179.96 283.091 Z\" fill=\"#000000\" fill-rule=\"evenodd\" fill-opacity=\"1\" /><path clip-path=\"url(#clip550)\" d=\"M 0 0 M2184.42 279.11 L2188.68 279.11 L2188.68 305.036 L2184.42 305.036 L2184.42 279.11 M2184.42 269.017 L2188.68 269.017 L2188.68 274.411 L2184.42 274.411 L2184.42 269.017 Z\" fill=\"#000000\" fill-rule=\"evenodd\" fill-opacity=\"1\" /><path clip-path=\"url(#clip550)\" d=\"M 0 0 M2216.25 280.105 L2216.25 284.087 Q2214.45 283.091 2212.62 282.605 Q2210.81 282.096 2208.96 282.096 Q2204.82 282.096 2202.53 284.735 Q2200.23 287.351 2200.23 292.096 Q2200.23 296.841 2202.53 299.48 Q2204.82 302.096 2208.96 302.096 Q2210.81 302.096 2212.62 301.61 Q2214.45 301.101 2216.25 300.105 L2216.25 304.04 Q2214.47 304.874 2212.55 305.29 Q2210.65 305.707 2208.5 305.707 Q2202.64 305.707 2199.19 302.026 Q2195.74 298.346 2195.74 292.096 Q2195.74 285.753 2199.22 282.119 Q2202.71 278.485 2208.78 278.485 Q2210.74 278.485 2212.62 278.902 Q2214.49 279.295 2216.25 280.105 Z\" fill=\"#000000\" fill-rule=\"evenodd\" fill-opacity=\"1\" /></svg>\n"
      ]
     },
     "execution_count": 16,
     "metadata": {},
     "output_type": "execute_result"
    }
   ],
   "source": [
    "es_num = 0:0.01:0.1\n",
    "symbolic_evaluations = [Float64(true_success_symbolic.subs(e,e_num)) for e_num in es_num]\n",
    "\n",
    "numeric_evaluations = []\n",
    "for epsilon in es_num\n",
    "    n = NoiseOpAll(UnbiasedUncorrelatedNoise(epsilon))\n",
    "    circuit = [n,g1,g2,m,v]\n",
    "    pe_symbolic = petrajectories(initial_state, circuit)\n",
    "    push!(numeric_evaluations, pe_symbolic[:true_success])\n",
    "end\n",
    "\n",
    "plot(es_num, symbolic_evaluations, label=\"symbolic\")\n",
    "plot!(es_num, numeric_evaluations, line=false, marker=true, label=\"numeric\")\n",
    "plot!(xlabel=\"ε\", ylabel=\"True Success Rate\", title=\"Numeric vs Symbolic Perturbative Expansion\")"
   ]
  },
  {
   "cell_type": "markdown",
   "metadata": {},
   "source": [
    "## Reproducibility information"
   ]
  },
  {
   "cell_type": "code",
   "execution_count": 17,
   "metadata": {},
   "outputs": [
    {
     "name": "stdout",
     "output_type": "stream",
     "text": [
      "Julia Version 1.6.0\n",
      "Commit f9720dc2eb (2021-03-24 12:55 UTC)\n",
      "Platform Info:\n",
      "  OS: Linux (x86_64-pc-linux-gnu)\n",
      "  CPU: AMD Ryzen 7 1700 Eight-Core Processor\n",
      "  WORD_SIZE: 64\n",
      "  LIBM: libopenlibm\n",
      "  LLVM: libLLVM-11.0.1 (ORCJIT, znver1)\n",
      "\u001b[32m\u001b[1m      Status\u001b[22m\u001b[39m `~/Documents/ScratchSpace/clifford/Project.toml`\n",
      " \u001b[90m [0525e862] \u001b[39m\u001b[37mQuantumClifford v0.2.6 `QuantumClifford`\u001b[39m\n",
      "\u001b[32m\u001b[1m      Status\u001b[22m\u001b[39m `~/Documents/ScratchSpace/clifford/Project.toml`\n",
      " \u001b[90m [0c5d862f] \u001b[39m\u001b[37mSymbolics v0.1.25\u001b[39m\n",
      "\u001b[32m\u001b[1m      Status\u001b[22m\u001b[39m `~/Documents/ScratchSpace/clifford/Project.toml`\n",
      " \u001b[90m [c3fe647b] \u001b[39m\u001b[37mAbstractAlgebra v0.16.0\u001b[39m\n",
      "\u001b[32m\u001b[1m      Status\u001b[22m\u001b[39m `~/Documents/ScratchSpace/clifford/Project.toml`\n",
      " \u001b[90m [24249f21] \u001b[39m\u001b[37mSymPy v1.0.44\u001b[39m\n"
     ]
    }
   ],
   "source": [
    "versioninfo()\n",
    "using Pkg\n",
    "Pkg.status(\"QuantumClifford\")\n",
    "Pkg.status(\"Symbolics\")\n",
    "Pkg.status(\"AbstractAlgebra\")\n",
    "Pkg.status(\"SymPy\")"
   ]
  }
 ],
 "metadata": {
  "kernelspec": {
   "display_name": "Julia 1.6.0",
   "language": "julia",
   "name": "julia-1.6"
  },
  "language_info": {
   "file_extension": ".jl",
   "mimetype": "application/julia",
   "name": "julia",
   "version": "1.6.0"
  }
 },
 "nbformat": 4,
 "nbformat_minor": 4
}
